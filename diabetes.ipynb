{
 "cells": [
  {
   "cell_type": "markdown",
   "metadata": {},
   "source": [
    "# A. Exploratory Data Analysis: Prime Indian Diabetes dataset"
   ]
  },
  {
   "cell_type": "markdown",
   "metadata": {},
   "source": [
    "**Objective**\n",
    "\n",
    "Predict whether patient has diabetes or not based on different features.\n",
    "n\n",
    "\n",
    "**Data Set Information**\n",
    "\n",
    "The dataset includes 769 rows and 7 columns containing different attributes of a person.\n",
    "\n",
    "\n",
    "**Attribute Information**\n",
    "- Pregnancies: Number of times pregnant\n",
    "- Glucose: Plasma glucose concentration a 2 hours in an oral glucose tolerance test\n",
    "- BloodPressure: Diastolic blood pressure (mm Hg)\n",
    "- SkinThickness: Triceps skin fold thickness (mm)\n",
    "- Insulin: 2-Hour serum insulin (mu U/ml)\n",
    "- BMI: Body mass index (weight in kg/(height in m)^2)\n",
    "\n",
    "- DiabetesPedigreeFunction:Diabetes pedigree function\n",
    "- Age: Age (years)\n",
    "- Outcome: Class variable (0 or 1) 268 of 768 are 1, the others are 0"
   ]
  },
  {
   "cell_type": "markdown",
   "metadata": {},
   "source": [
    "## 0. Required Imports"
   ]
  },
  {
   "cell_type": "code",
   "execution_count": 1,
   "metadata": {},
   "outputs": [],
   "source": [
    "import pandas as pd\n",
    "import numpy as np\n",
    "import matplotlib.pyplot as plt\n",
    "import seaborn as sns\n",
    "import plotly.express as px\n",
    "import warnings\n",
    "from scipy import stats"
   ]
  },
  {
   "cell_type": "code",
   "execution_count": 2,
   "metadata": {},
   "outputs": [],
   "source": [
    "warnings.filterwarnings('ignore')\n",
    "%matplotlib inline"
   ]
  },
  {
   "cell_type": "markdown",
   "metadata": {},
   "source": [
    "## A.1. Problem Statement"
   ]
  },
  {
   "cell_type": "markdown",
   "metadata": {},
   "source": [
    "Predict whether a person is diabetic positive or not based on different features."
   ]
  },
  {
   "cell_type": "markdown",
   "metadata": {},
   "source": [
    "## A.2. Data Collection"
   ]
  },
  {
   "cell_type": "code",
   "execution_count": 12,
   "metadata": {},
   "outputs": [],
   "source": [
    "df = pd.read_csv('../Diabetes-Predictor/pime_indians_diabetes.csv')"
   ]
  },
  {
   "cell_type": "code",
   "execution_count": 14,
   "metadata": {},
   "outputs": [
    {
     "data": {
      "text/html": [
       "<div>\n",
       "<style scoped>\n",
       "    .dataframe tbody tr th:only-of-type {\n",
       "        vertical-align: middle;\n",
       "    }\n",
       "\n",
       "    .dataframe tbody tr th {\n",
       "        vertical-align: top;\n",
       "    }\n",
       "\n",
       "    .dataframe thead th {\n",
       "        text-align: right;\n",
       "    }\n",
       "</style>\n",
       "<table border=\"1\" class=\"dataframe\">\n",
       "  <thead>\n",
       "    <tr style=\"text-align: right;\">\n",
       "      <th></th>\n",
       "      <th>Pregnancies</th>\n",
       "      <th>Glucose</th>\n",
       "      <th>BloodPressure</th>\n",
       "      <th>SkinThickness</th>\n",
       "      <th>Insulin</th>\n",
       "      <th>BMI</th>\n",
       "      <th>DiabetesPedigreeFunction</th>\n",
       "      <th>Age</th>\n",
       "      <th>Outcome</th>\n",
       "    </tr>\n",
       "  </thead>\n",
       "  <tbody>\n",
       "    <tr>\n",
       "      <th>0</th>\n",
       "      <td>6</td>\n",
       "      <td>148</td>\n",
       "      <td>72</td>\n",
       "      <td>35</td>\n",
       "      <td>0</td>\n",
       "      <td>33.6</td>\n",
       "      <td>0.627</td>\n",
       "      <td>50</td>\n",
       "      <td>1</td>\n",
       "    </tr>\n",
       "    <tr>\n",
       "      <th>1</th>\n",
       "      <td>1</td>\n",
       "      <td>85</td>\n",
       "      <td>66</td>\n",
       "      <td>29</td>\n",
       "      <td>0</td>\n",
       "      <td>26.6</td>\n",
       "      <td>0.351</td>\n",
       "      <td>31</td>\n",
       "      <td>0</td>\n",
       "    </tr>\n",
       "    <tr>\n",
       "      <th>2</th>\n",
       "      <td>8</td>\n",
       "      <td>183</td>\n",
       "      <td>64</td>\n",
       "      <td>0</td>\n",
       "      <td>0</td>\n",
       "      <td>23.3</td>\n",
       "      <td>0.672</td>\n",
       "      <td>32</td>\n",
       "      <td>1</td>\n",
       "    </tr>\n",
       "    <tr>\n",
       "      <th>3</th>\n",
       "      <td>1</td>\n",
       "      <td>89</td>\n",
       "      <td>66</td>\n",
       "      <td>23</td>\n",
       "      <td>94</td>\n",
       "      <td>28.1</td>\n",
       "      <td>0.167</td>\n",
       "      <td>21</td>\n",
       "      <td>0</td>\n",
       "    </tr>\n",
       "    <tr>\n",
       "      <th>4</th>\n",
       "      <td>0</td>\n",
       "      <td>137</td>\n",
       "      <td>40</td>\n",
       "      <td>35</td>\n",
       "      <td>168</td>\n",
       "      <td>43.1</td>\n",
       "      <td>2.288</td>\n",
       "      <td>33</td>\n",
       "      <td>1</td>\n",
       "    </tr>\n",
       "  </tbody>\n",
       "</table>\n",
       "</div>"
      ],
      "text/plain": [
       "   Pregnancies   Glucose   BloodPressure   SkinThickness   Insulin   BMI  \\\n",
       "0            6       148              72              35         0  33.6   \n",
       "1            1        85              66              29         0  26.6   \n",
       "2            8       183              64               0         0  23.3   \n",
       "3            1        89              66              23        94  28.1   \n",
       "4            0       137              40              35       168  43.1   \n",
       "\n",
       "    DiabetesPedigreeFunction   Age   Outcome  \n",
       "0                      0.627    50         1  \n",
       "1                      0.351    31         0  \n",
       "2                      0.672    32         1  \n",
       "3                      0.167    21         0  \n",
       "4                      2.288    33         1  "
      ]
     },
     "execution_count": 14,
     "metadata": {},
     "output_type": "execute_result"
    }
   ],
   "source": [
    "df.head()"
   ]
  },
  {
   "cell_type": "markdown",
   "metadata": {},
   "source": [
    "## A.3. Data Preprocessing"
   ]
  },
  {
   "cell_type": "code",
   "execution_count": 15,
   "metadata": {},
   "outputs": [
    {
     "data": {
      "text/plain": [
       "(768, 9)"
      ]
     },
     "execution_count": 15,
     "metadata": {},
     "output_type": "execute_result"
    }
   ],
   "source": [
    "df.shape"
   ]
  },
  {
   "cell_type": "markdown",
   "metadata": {},
   "source": [
    "we got 768 rows and 9 columns or features"
   ]
  },
  {
   "cell_type": "markdown",
   "metadata": {},
   "source": [
    "### A.3.1 Removing Null values"
   ]
  },
  {
   "cell_type": "markdown",
   "metadata": {},
   "source": [
    "Visualizing the null values"
   ]
  },
  {
   "cell_type": "code",
   "execution_count": 16,
   "metadata": {},
   "outputs": [
    {
     "data": {
      "text/plain": [
       "<AxesSubplot:>"
      ]
     },
     "execution_count": 16,
     "metadata": {},
     "output_type": "execute_result"
    },
    {
     "data": {
      "image/png": "[encoded data removed]",
      "text/plain": [
       "<Figure size 432x288 with 1 Axes>"
      ]
     },
     "metadata": {
      "needs_background": "light"
     },
     "output_type": "display_data"
    }
   ],
   "source": [
    "sns.heatmap(df.isnull(), cbar=False, cmap='viridis')"
   ]
  },
  {
   "cell_type": "markdown",
   "metadata": {},
   "source": [
    "Fetching the indexes of the null values"
   ]
  },
  {
   "cell_type": "code",
   "execution_count": 17,
   "metadata": {},
   "outputs": [],
   "source": [
    "null_val_indexes = [i for i, row in df.iterrows() if row.isnull().any()]"
   ]
  },
  {
   "cell_type": "code",
   "execution_count": 18,
   "metadata": {},
   "outputs": [
    {
     "data": {
      "text/plain": [
       "[]"
      ]
     },
     "execution_count": 18,
     "metadata": {},
     "output_type": "execute_result"
    }
   ],
   "source": [
    "null_val_indexes"
   ]
  },
  {
   "cell_type": "markdown",
   "metadata": {},
   "source": [
    "**Observation:** We can observe that we have no column in any of the rows with null value."
   ]
  },
  {
   "cell_type": "markdown",
   "metadata": {},
   "source": [
    "### A.3.2 Removing Nan values"
   ]
  },
  {
   "cell_type": "markdown",
   "metadata": {},
   "source": [
    "Visualizing the Nan values"
   ]
  },
  {
   "cell_type": "code",
   "execution_count": 21,
   "metadata": {},
   "outputs": [
    {
     "data": {
      "text/plain": [
       "<AxesSubplot:>"
      ]
     },
     "execution_count": 21,
     "metadata": {},
     "output_type": "execute_result"
    },
    {
     "data": {
      "image/png": "[encoded data removed]",
      "text/plain": [
       "<Figure size 432x288 with 1 Axes>"
      ]
     },
     "metadata": {
      "needs_background": "light"
     },
     "output_type": "display_data"
    }
   ],
   "source": [
    "sns.heatmap(df.isnull(), cbar=False, cmap='viridis')"
   ]
  },
  {
   "cell_type": "markdown",
   "metadata": {},
   "source": [
    "Fetching the indexes of Nan Values"
   ]
  },
  {
   "cell_type": "code",
   "execution_count": 23,
   "metadata": {},
   "outputs": [],
   "source": [
    "nan_val_indexes = [i for i, row in df.iterrows() if row.isna().any()]"
   ]
  },
  {
   "cell_type": "code",
   "execution_count": 24,
   "metadata": {},
   "outputs": [
    {
     "data": {
      "text/plain": [
       "[]"
      ]
     },
     "execution_count": 24,
     "metadata": {},
     "output_type": "execute_result"
    }
   ],
   "source": [
    "nan_val_indexes"
   ]
  },
  {
   "cell_type": "markdown",
   "metadata": {},
   "source": [
    "**Observation:** We can observe that we have no column in any of the rows with NaN value."
   ]
  },
  {
   "cell_type": "markdown",
   "metadata": {},
   "source": [
    "### A.3.3 Fixing the column names"
   ]
  },
  {
   "cell_type": "markdown",
   "metadata": {},
   "source": [
    "Remove spaces from the colum heads"
   ]
  },
  {
   "cell_type": "code",
   "execution_count": 29,
   "metadata": {},
   "outputs": [
    {
     "data": {
      "text/plain": [
       "Index(['Pregnancies', ' Glucose', ' BloodPressure', ' SkinThickness',\n",
       "       ' Insulin', ' BMI', ' DiabetesPedigreeFunction', ' Age', ' Outcome'],\n",
       "      dtype='object')"
      ]
     },
     "execution_count": 29,
     "metadata": {},
     "output_type": "execute_result"
    }
   ],
   "source": [
    "df.columns"
   ]
  },
  {
   "cell_type": "markdown",
   "metadata": {},
   "source": [
    "Their are spaces in column names so we need to remove them but before that we need to convert all the columns to string type first."
   ]
  },
  {
   "cell_type": "code",
   "execution_count": 30,
   "metadata": {},
   "outputs": [],
   "source": [
    "df = df.astype(str)"
   ]
  },
  {
   "cell_type": "code",
   "execution_count": 32,
   "metadata": {},
   "outputs": [],
   "source": [
    "df.columns = [col_name.strip() for col_name in df.columns]"
   ]
  },
  {
   "cell_type": "code",
   "execution_count": 33,
   "metadata": {},
   "outputs": [
    {
     "data": {
      "text/plain": [
       "Index(['Pregnancies', 'Glucose', 'BloodPressure', 'SkinThickness', 'Insulin',\n",
       "       'BMI', 'DiabetesPedigreeFunction', 'Age', 'Outcome'],\n",
       "      dtype='object')"
      ]
     },
     "execution_count": 33,
     "metadata": {},
     "output_type": "execute_result"
    }
   ],
   "source": [
    "df.columns"
   ]
  },
  {
   "cell_type": "markdown",
   "metadata": {},
   "source": [
    "### A.3.4 Fixing the data types of columns"
   ]
  },
  {
   "cell_type": "markdown",
   "metadata": {},
   "source": [
    "Currently data types of respective columns are as follows"
   ]
  },
  {
   "cell_type": "code",
   "execution_count": 35,
   "metadata": {},
   "outputs": [
    {
     "data": {
      "text/plain": [
       "Pregnancies                 object\n",
       "Glucose                     object\n",
       "BloodPressure               object\n",
       "SkinThickness               object\n",
       "Insulin                     object\n",
       "BMI                         object\n",
       "DiabetesPedigreeFunction    object\n",
       "Age                         object\n",
       "Outcome                     object\n",
       "dtype: object"
      ]
     },
     "execution_count": 35,
     "metadata": {},
     "output_type": "execute_result"
    }
   ],
   "source": [
    "df.dtypes"
   ]
  },
  {
   "cell_type": "markdown",
   "metadata": {},
   "source": [
    "We will change the data types of columns to our custom type as we have previously altered them."
   ]
  },
  {
   "cell_type": "code",
   "execution_count": 37,
   "metadata": {},
   "outputs": [],
   "source": [
    "custom_dtypes = {'Pregnancies': 'int64', 'Glucose': 'int64', 'BloodPressure': 'int64', 'SkinThickness': 'int64', 'Insulin': 'int64', 'BMI': 'float64', 'DiabetesPedigreeFunction': 'float64', 'Age': 'int64', 'Outcome': 'object'}\n",
    "\n",
    "df = df.astype(custom_dtypes)"
   ]
  },
  {
   "cell_type": "code",
   "execution_count": 38,
   "metadata": {},
   "outputs": [
    {
     "data": {
      "text/plain": [
       "Pregnancies                   int64\n",
       "Glucose                       int64\n",
       "BloodPressure                 int64\n",
       "SkinThickness                 int64\n",
       "Insulin                       int64\n",
       "BMI                         float64\n",
       "DiabetesPedigreeFunction    float64\n",
       "Age                           int64\n",
       "Outcome                      object\n",
       "dtype: object"
      ]
     },
     "execution_count": 38,
     "metadata": {},
     "output_type": "execute_result"
    }
   ],
   "source": [
    "df.dtypes"
   ]
  },
  {
   "cell_type": "markdown",
   "metadata": {},
   "source": [
    "### A.4 Detection and removal of outliers"
   ]
  },
  {
   "cell_type": "markdown",
   "metadata": {},
   "source": [
    "### A.4.1 Detecting outliers by Box plot"
   ]
  },
  {
   "cell_type": "markdown",
   "metadata": {},
   "source": [
    "We can only detect outliers in numerical features."
   ]
  },
  {
   "cell_type": "code",
   "execution_count": 45,
   "metadata": {},
   "outputs": [],
   "source": [
    "num_columns = [column for column in df.columns if df[column].dtypes != 'O']"
   ]
  },
  {
   "cell_type": "code",
   "execution_count": 46,
   "metadata": {},
   "outputs": [
    {
     "data": {
      "text/plain": [
       "['Pregnancies',\n",
       " 'Glucose',\n",
       " 'BloodPressure',\n",
       " 'SkinThickness',\n",
       " 'Insulin',\n",
       " 'BMI',\n",
       " 'DiabetesPedigreeFunction',\n",
       " 'Age']"
      ]
     },
     "execution_count": 46,
     "metadata": {},
     "output_type": "execute_result"
    }
   ],
   "source": [
    "num_columns"
   ]
  },
  {
   "cell_type": "code",
   "execution_count": 47,
   "metadata": {},
   "outputs": [
    {
     "data": {
      "image/png": "[encoded data removed]",
      "text/plain": [
       "<Figure size 1440x720 with 8 Axes>"
      ]
     },
     "metadata": {
      "needs_background": "light"
     },
     "output_type": "display_data"
    }
   ],
   "source": [
    "n = 1\n",
    "plt.figure(figsize=(20, 10))\n",
    "for column in num_columns:\n",
    "    plt.subplot(5, 2, n)\n",
    "    n+= 1\n",
    "    sns.boxplot(df[column])\n",
    "    plt.tight_layout()"
   ]
  },
  {
   "cell_type": "markdown",
   "metadata": {},
   "source": [
    "### A.4.2 Detecting outliers by z-score"
   ]
  },
  {
   "cell_type": "code",
   "execution_count": 48,
   "metadata": {},
   "outputs": [],
   "source": [
    "z_scores = []\n",
    "for column in num_columns:\n",
    "    z_scores.append(np.abs(stats.zscore(df[column])))"
   ]
  },
  {
   "cell_type": "code",
   "execution_count": 49,
   "metadata": {},
   "outputs": [
    {
     "data": {
      "text/plain": [
       "[0      0.639947\n",
       " 1      0.844885\n",
       " 2      1.233880\n",
       " 3      0.844885\n",
       " 4      1.141852\n",
       "          ...   \n",
       " 763    1.827813\n",
       " 764    0.547919\n",
       " 765    0.342981\n",
       " 766    0.844885\n",
       " 767    0.844885\n",
       " Name: Pregnancies, Length: 768, dtype: float64,\n",
       " 0      0.848324\n",
       " 1      1.123396\n",
       " 2      1.943724\n",
       " 3      0.998208\n",
       " 4      0.504055\n",
       "          ...   \n",
       " 763    0.622642\n",
       " 764    0.034598\n",
       " 765    0.003301\n",
       " 766    0.159787\n",
       " 767    0.873019\n",
       " Name: Glucose, Length: 768, dtype: float64,\n",
       " 0      0.149641\n",
       " 1      0.160546\n",
       " 2      0.263941\n",
       " 3      0.160546\n",
       " 4      1.504687\n",
       "          ...   \n",
       " 763    0.356432\n",
       " 764    0.046245\n",
       " 765    0.149641\n",
       " 766    0.470732\n",
       " 767    0.046245\n",
       " Name: BloodPressure, Length: 768, dtype: float64,\n",
       " 0      0.907270\n",
       " 1      0.530902\n",
       " 2      1.288212\n",
       " 3      0.154533\n",
       " 4      0.907270\n",
       "          ...   \n",
       " 763    1.722735\n",
       " 764    0.405445\n",
       " 765    0.154533\n",
       " 766    1.288212\n",
       " 767    0.656358\n",
       " Name: SkinThickness, Length: 768, dtype: float64,\n",
       " 0      0.692891\n",
       " 1      0.692891\n",
       " 2      0.692891\n",
       " 3      0.123302\n",
       " 4      0.765836\n",
       "          ...   \n",
       " 763    0.870031\n",
       " 764    0.692891\n",
       " 765    0.279594\n",
       " 766    0.692891\n",
       " 767    0.692891\n",
       " Name: Insulin, Length: 768, dtype: float64,\n",
       " 0      0.204013\n",
       " 1      0.684422\n",
       " 2      1.103255\n",
       " 3      0.494043\n",
       " 4      1.409746\n",
       "          ...   \n",
       " 763    0.115169\n",
       " 764    0.610154\n",
       " 765    0.735190\n",
       " 766    0.240205\n",
       " 767    0.202129\n",
       " Name: BMI, Length: 768, dtype: float64,\n",
       " 0      0.468492\n",
       " 1      0.365061\n",
       " 2      0.604397\n",
       " 3      0.920763\n",
       " 4      5.484909\n",
       "          ...   \n",
       " 763    0.908682\n",
       " 764    0.398282\n",
       " 765    0.685193\n",
       " 766    0.371101\n",
       " 767    0.473785\n",
       " Name: DiabetesPedigreeFunction, Length: 768, dtype: float64,\n",
       " 0      1.425995\n",
       " 1      0.190672\n",
       " 2      0.105584\n",
       " 3      1.041549\n",
       " 4      0.020496\n",
       "          ...   \n",
       " 763    2.532136\n",
       " 764    0.531023\n",
       " 765    0.275760\n",
       " 766    1.170732\n",
       " 767    0.871374\n",
       " Name: Age, Length: 768, dtype: float64]"
      ]
     },
     "execution_count": 49,
     "metadata": {},
     "output_type": "execute_result"
    }
   ],
   "source": [
    "z_scores"
   ]
  },
  {
   "cell_type": "markdown",
   "metadata": {},
   "source": [
    "Lets set the threshold to 3 and identify the outliers."
   ]
  },
  {
   "cell_type": "code",
   "execution_count": 50,
   "metadata": {},
   "outputs": [
    {
     "name": "stdout",
     "output_type": "stream",
     "text": [
      "(array([ 88, 159, 298, 455], dtype=int64),)\n",
      "(array([ 75, 182, 342, 349, 502], dtype=int64),)\n",
      "(array([  7,  15,  49,  60,  78,  81, 172, 193, 222, 261, 266, 269, 300,\n",
      "       332, 336, 347, 357, 426, 430, 435, 453, 468, 484, 494, 522, 533,\n",
      "       535, 589, 601, 604, 619, 643, 697, 703, 706], dtype=int64),)\n",
      "(array([579], dtype=int64),)\n",
      "(array([  8,  13, 111, 153, 186, 220, 228, 247, 286, 370, 409, 415, 486,\n",
      "       584, 645, 655, 695, 753], dtype=int64),)\n",
      "(array([  9,  49,  60,  81, 145, 177, 371, 426, 445, 494, 522, 673, 684,\n",
      "       706], dtype=int64),)\n",
      "(array([  4,  45,  58, 228, 330, 370, 371, 395, 445, 593, 621], dtype=int64),)\n",
      "(array([123, 453, 459, 666, 684], dtype=int64),)\n"
     ]
    }
   ],
   "source": [
    "threshold = 3 \n",
    "for z in z_scores:\n",
    "    print(np.where(z > threshold))"
   ]
  },
  {
   "cell_type": "markdown",
   "metadata": {},
   "source": [
    "**Observation:** \n",
    "\n",
    "Here we can observe the row numbers where value of z-score is greater than threshold for respective numerical features."
   ]
  },
  {
   "cell_type": "markdown",
   "metadata": {},
   "source": [
    "Now we will calculate the IQR for each of numerical features."
   ]
  },
  {
   "cell_type": "code",
   "execution_count": 51,
   "metadata": {},
   "outputs": [],
   "source": [
    "feature_IQRs = []\n",
    "\n",
    "for column in num_columns:\n",
    "    Q1 = df[column].quantile(0.25)\n",
    "    Q3 = df[column].quantile(0.75)\n",
    "    IQR = Q3 - Q1\n",
    "    feature_IQRs.append(IQR)"
   ]
  },
  {
   "cell_type": "code",
   "execution_count": 52,
   "metadata": {},
   "outputs": [
    {
     "name": "stdout",
     "output_type": "stream",
     "text": [
      "Pregnancies------------->5.0\n",
      "Glucose------------->41.25\n",
      "BloodPressure------------->18.0\n",
      "SkinThickness------------->32.0\n",
      "Insulin------------->127.25\n",
      "BMI------------->9.3\n",
      "DiabetesPedigreeFunction------------->0.38249999999999995\n",
      "Age------------->17.0\n"
     ]
    }
   ],
   "source": [
    "for column, IQR in zip(num_columns, feature_IQRs):\n",
    "    print(column + '------------->' + str(IQR))"
   ]
  },
  {
   "cell_type": "markdown",
   "metadata": {},
   "source": [
    "We can also calculate lower_fence and upper_fence using the IQR to remove the outliers in later stage.\n",
    "\n",
    "lower_fence = Q1 - 1.5 * IQR\n",
    "\n",
    "higher_fence = Q3 + 1.5 * IQR"
   ]
  },
  {
   "cell_type": "markdown",
   "metadata": {},
   "source": [
    "### A.4.3 Removing outliers by z-score"
   ]
  },
  {
   "cell_type": "markdown",
   "metadata": {},
   "source": [
    "Remove outliers from all the numerical column using z score."
   ]
  },
  {
   "cell_type": "code",
   "execution_count": 58,
   "metadata": {},
   "outputs": [],
   "source": [
    "df_processed = df[np.abs(stats.zscore(df[num_columns]) < 3).all(axis=1)]"
   ]
  },
  {
   "cell_type": "code",
   "execution_count": 66,
   "metadata": {},
   "outputs": [
    {
     "data": {
      "text/plain": [
       "(729, 9)"
      ]
     },
     "execution_count": 66,
     "metadata": {},
     "output_type": "execute_result"
    }
   ],
   "source": [
    "df_processed.shape"
   ]
  },
  {
   "cell_type": "markdown",
   "metadata": {},
   "source": [
    "## A.5 Feature segregation"
   ]
  },
  {
   "cell_type": "markdown",
   "metadata": {},
   "source": [
    "Categorical Features in dataset are "
   ]
  },
  {
   "cell_type": "code",
   "execution_count": 67,
   "metadata": {},
   "outputs": [],
   "source": [
    "cat_features = [feature for feature in df.columns if df_processed[feature].dtype == 'O']"
   ]
  },
  {
   "cell_type": "code",
   "execution_count": 68,
   "metadata": {},
   "outputs": [
    {
     "data": {
      "text/plain": [
       "['Outcome']"
      ]
     },
     "execution_count": 68,
     "metadata": {},
     "output_type": "execute_result"
    }
   ],
   "source": [
    "cat_features"
   ]
  },
  {
   "cell_type": "markdown",
   "metadata": {},
   "source": [
    "Numerical features in dataset are"
   ]
  },
  {
   "cell_type": "code",
   "execution_count": 69,
   "metadata": {},
   "outputs": [],
   "source": [
    "num_features = [feature for feature in df.columns if df_processed[feature].dtype != 'O']"
   ]
  },
  {
   "cell_type": "code",
   "execution_count": 70,
   "metadata": {},
   "outputs": [
    {
     "data": {
      "text/plain": [
       "['Pregnancies',\n",
       " 'Glucose',\n",
       " 'BloodPressure',\n",
       " 'SkinThickness',\n",
       " 'Insulin',\n",
       " 'BMI',\n",
       " 'DiabetesPedigreeFunction',\n",
       " 'Age']"
      ]
     },
     "execution_count": 70,
     "metadata": {},
     "output_type": "execute_result"
    }
   ],
   "source": [
    "num_features"
   ]
  },
  {
   "cell_type": "markdown",
   "metadata": {},
   "source": [
    "Lets make data frame of categorical and numerical data frame for future references"
   ]
  },
  {
   "cell_type": "code",
   "execution_count": 71,
   "metadata": {},
   "outputs": [],
   "source": [
    "cat_df = df_processed.filter(cat_features)"
   ]
  },
  {
   "cell_type": "code",
   "execution_count": 72,
   "metadata": {},
   "outputs": [],
   "source": [
    "num_df = df_processed.filter(num_features)"
   ]
  },
  {
   "cell_type": "markdown",
   "metadata": {},
   "source": [
    "## A.6 Bivariate Analysis"
   ]
  },
  {
   "cell_type": "markdown",
   "metadata": {},
   "source": [
    "### A.6.1 Correaltion of numerical features"
   ]
  },
  {
   "cell_type": "code",
   "execution_count": 74,
   "metadata": {},
   "outputs": [
    {
     "data": {
      "text/plain": [
       "<AxesSubplot:>"
      ]
     },
     "execution_count": 74,
     "metadata": {},
     "output_type": "execute_result"
    },
    {
     "data": {
      "image/png": "[encoded data removed]",
      "text/plain": [
       "<Figure size 720x720 with 2 Axes>"
      ]
     },
     "metadata": {
      "needs_background": "light"
     },
     "output_type": "display_data"
    }
   ],
   "source": [
    "plt.figure(figsize=(10, 10))\n",
    "sns.heatmap(df_processed.corr(), cbar=True, annot=True, cmap='plasma')"
   ]
  },
  {
   "cell_type": "markdown",
   "metadata": {},
   "source": [
    "**Observation:**\n",
    "\n",
    "We can observe that:\n",
    "\n",
    "- Their is high positive correlation between:\n",
    "     - Pregnancies and age\n",
    "     - Skin Thickness and Insulin \n",
    "     - Skin Thickness and BMI\n",
    "\n",
    "- Their is moderate correlation between:\n",
    "     - Glucose and Insulin\n",
    "     - Glucose and Age\n",
    "     - Blood Pressure and Skin Thickness\n",
    "     - Blood Pressure and BMI\n",
    "     - Blood Pressure and Age\n",
    "\n",
    "- Their is negative correlation between:\n",
    "     - Pregnancies and Skin Thickness\n",
    "     - Skin Thickness and Age\n",
    "     - Age and Insulin"
   ]
  },
  {
   "cell_type": "markdown",
   "metadata": {},
   "source": [
    "### A.6.2 Relation between Categorical features"
   ]
  },
  {
   "cell_type": "code",
   "execution_count": 80,
   "metadata": {},
   "outputs": [
    {
     "data": {
      "text/plain": [
       "Outcome\n",
       "0          483\n",
       "1          246\n",
       "dtype: int64"
      ]
     },
     "execution_count": 80,
     "metadata": {},
     "output_type": "execute_result"
    }
   ],
   "source": [
    "cat_df.value_counts()"
   ]
  },
  {
   "cell_type": "code",
   "execution_count": 76,
   "metadata": {},
   "outputs": [
    {
     "data": {
      "text/plain": [
       "<AxesSubplot:xlabel='count', ylabel='Outcome'>"
      ]
     },
     "execution_count": 76,
     "metadata": {},
     "output_type": "execute_result"
    },
    {
     "data": {
      "image/png": "[encoded data removed]",
      "text/plain": [
       "<Figure size 432x288 with 1 Axes>"
      ]
     },
     "metadata": {
      "needs_background": "light"
     },
     "output_type": "display_data"
    }
   ],
   "source": [
    "sns.countplot(data=cat_df, y='Outcome', hue='Outcome', palette='gist_rainbow_r')"
   ]
  },
  {
   "cell_type": "markdown",
   "metadata": {},
   "source": [
    "**Observations:** In our dataset Diabetes negative is encoded as 0 and represented by green and Diabetes positive is encoded as 1 and represented by blue.\n",
    "\n",
    "- Number of Diabetes positive: 246\n",
    "- Number of Diabetes negatives: 483"
   ]
  },
  {
   "cell_type": "markdown",
   "metadata": {},
   "source": [
    "## A.7 Univariate Analysis"
   ]
  },
  {
   "cell_type": "markdown",
   "metadata": {},
   "source": [
    "Lets check the distribution of the features"
   ]
  },
  {
   "cell_type": "code",
   "execution_count": 81,
   "metadata": {},
   "outputs": [
    {
     "data": {
      "image/png": "[encoded data removed]",
      "text/plain": [
       "<Figure size 432x288 with 1 Axes>"
      ]
     },
     "metadata": {
      "needs_background": "light"
     },
     "output_type": "display_data"
    },
    {
     "data": {
      "image/png": "[encoded data removed]",
      "text/plain": [
       "<Figure size 432x288 with 1 Axes>"
      ]
     },
     "metadata": {
      "needs_background": "light"
     },
     "output_type": "display_data"
    },
    {
     "data": {
      "image/png": "[encoded data removed]",
      "text/plain": [
       "<Figure size 432x288 with 1 Axes>"
      ]
     },
     "metadata": {
      "needs_background": "light"
     },
     "output_type": "display_data"
    },
    {
     "data": {
      "image/png": "[encoded data removed]",
      "text/plain": [
       "<Figure size 432x288 with 1 Axes>"
      ]
     },
     "metadata": {
      "needs_background": "light"
     },
     "output_type": "display_data"
    },
    {
     "data": {
      "image/png": "[encoded data removed]",
      "text/plain": [
       "<Figure size 432x288 with 1 Axes>"
      ]
     },
     "metadata": {
      "needs_background": "light"
     },
     "output_type": "display_data"
    },
    {
     "data": {
      "image/png": "[encoded data removed]",
      "text/plain": [
       "<Figure size 432x288 with 1 Axes>"
      ]
     },
     "metadata": {
      "needs_background": "light"
     },
     "output_type": "display_data"
    },
    {
     "data": {
      "image/png": "[encoded data removed]",
      "text/plain": [
       "<Figure size 432x288 with 1 Axes>"
      ]
     },
     "metadata": {
      "needs_background": "light"
     },
     "output_type": "display_data"
    },
    {
     "data": {
      "image/png": "[encoded data removed]",
      "text/plain": [
       "<Figure size 432x288 with 1 Axes>"
      ]
     },
     "metadata": {
      "needs_background": "light"
     },
     "output_type": "display_data"
    }
   ],
   "source": [
    "for column in num_columns:\n",
    "    sns.histplot(data=num_df, x=column, kde=True, bins=30)\n",
    "    plt.show()"
   ]
  },
  {
   "cell_type": "markdown",
   "metadata": {},
   "source": [
    "**Observations:**\n",
    "\n",
    "- Pregnancies, Age, DiabetesPedigreeFunction are right skewed normally distributed.\n",
    "- BMI, SkinThickness, BloodPressure and Glucose are following Gaussian Distribution\n",
    "- Insulin is not following any distribution correctly."
   ]
  },
  {
   "cell_type": "markdown",
   "metadata": {},
   "source": [
    "Lets see the relation between each of the features with help of strip plot"
   ]
  },
  {
   "cell_type": "code",
   "execution_count": 85,
   "metadata": {},
   "outputs": [
    {
     "data": {
      "text/plain": [
       "<AxesSubplot:xlabel='Pregnancies', ylabel='Outcome'>"
      ]
     },
     "execution_count": 85,
     "metadata": {},
     "output_type": "execute_result"
    },
    {
     "data": {
      "image/png": "[encoded data removed]",
      "text/plain": [
       "<Figure size 432x288 with 1 Axes>"
      ]
     },
     "metadata": {
      "needs_background": "light"
     },
     "output_type": "display_data"
    }
   ],
   "source": [
    "sns.stripplot(data=df_processed, x='Pregnancies', y='Outcome', palette='gist_rainbow_r')"
   ]
  },
  {
   "cell_type": "code",
   "execution_count": 86,
   "metadata": {},
   "outputs": [
    {
     "data": {
      "text/plain": [
       "<AxesSubplot:xlabel='Glucose', ylabel='Outcome'>"
      ]
     },
     "execution_count": 86,
     "metadata": {},
     "output_type": "execute_result"
    },
    {
     "data": {
      "image/png": "[encoded data removed]",
      "text/plain": [
       "<Figure size 432x288 with 1 Axes>"
      ]
     },
     "metadata": {
      "needs_background": "light"
     },
     "output_type": "display_data"
    }
   ],
   "source": [
    "sns.stripplot(data=df_processed, x='Glucose', y='Outcome', palette='gist_rainbow_r')"
   ]
  },
  {
   "cell_type": "code",
   "execution_count": 87,
   "metadata": {},
   "outputs": [
    {
     "data": {
      "text/plain": [
       "<AxesSubplot:xlabel='BloodPressure', ylabel='Outcome'>"
      ]
     },
     "execution_count": 87,
     "metadata": {},
     "output_type": "execute_result"
    },
    {
     "data": {
      "image/png": "[encoded data removed]",
      "text/plain": [
       "<Figure size 432x288 with 1 Axes>"
      ]
     },
     "metadata": {
      "needs_background": "light"
     },
     "output_type": "display_data"
    }
   ],
   "source": [
    "sns.stripplot(data=df_processed, x='BloodPressure', y='Outcome', palette='gist_rainbow_r')"
   ]
  },
  {
   "cell_type": "code",
   "execution_count": 88,
   "metadata": {},
   "outputs": [
    {
     "data": {
      "text/plain": [
       "<AxesSubplot:xlabel='SkinThickness', ylabel='Outcome'>"
      ]
     },
     "execution_count": 88,
     "metadata": {},
     "output_type": "execute_result"
    },
    {
     "data": {
      "image/png": "[encoded data removed]",
      "text/plain": [
       "<Figure size 432x288 with 1 Axes>"
      ]
     },
     "metadata": {
      "needs_background": "light"
     },
     "output_type": "display_data"
    }
   ],
   "source": [
    "sns.stripplot(data=df_processed, x='SkinThickness', y='Outcome', palette='gist_rainbow_r')"
   ]
  },
  {
   "cell_type": "code",
   "execution_count": 89,
   "metadata": {},
   "outputs": [
    {
     "data": {
      "text/plain": [
       "<AxesSubplot:xlabel='Insulin', ylabel='Outcome'>"
      ]
     },
     "execution_count": 89,
     "metadata": {},
     "output_type": "execute_result"
    },
    {
     "data": {
      "image/png": "[encoded data removed]",
      "text/plain": [
       "<Figure size 432x288 with 1 Axes>"
      ]
     },
     "metadata": {
      "needs_background": "light"
     },
     "output_type": "display_data"
    }
   ],
   "source": [
    "sns.stripplot(data=df_processed, x='Insulin', y='Outcome', palette='gist_rainbow_r')"
   ]
  },
  {
   "cell_type": "code",
   "execution_count": 90,
   "metadata": {},
   "outputs": [
    {
     "data": {
      "text/plain": [
       "<AxesSubplot:xlabel='BMI', ylabel='Outcome'>"
      ]
     },
     "execution_count": 90,
     "metadata": {},
     "output_type": "execute_result"
    },
    {
     "data": {
      "image/png": "[encoded data removed]",
      "text/plain": [
       "<Figure size 432x288 with 1 Axes>"
      ]
     },
     "metadata": {
      "needs_background": "light"
     },
     "output_type": "display_data"
    }
   ],
   "source": [
    "sns.stripplot(data=df_processed, x='BMI', y='Outcome', palette='gist_rainbow_r')"
   ]
  },
  {
   "cell_type": "code",
   "execution_count": 92,
   "metadata": {},
   "outputs": [
    {
     "data": {
      "text/plain": [
       "<AxesSubplot:xlabel='DiabetesPedigreeFunction', ylabel='Outcome'>"
      ]
     },
     "execution_count": 92,
     "metadata": {},
     "output_type": "execute_result"
    },
    {
     "data": {
      "image/png": "[encoded data removed]",
      "text/plain": [
       "<Figure size 432x288 with 1 Axes>"
      ]
     },
     "metadata": {
      "needs_background": "light"
     },
     "output_type": "display_data"
    }
   ],
   "source": [
    "sns.stripplot(data=df_processed, x='DiabetesPedigreeFunction', y='Outcome', palette='gist_rainbow_r')"
   ]
  },
  {
   "cell_type": "code",
   "execution_count": 91,
   "metadata": {},
   "outputs": [
    {
     "data": {
      "text/plain": [
       "<AxesSubplot:xlabel='Age', ylabel='Outcome'>"
      ]
     },
     "execution_count": 91,
     "metadata": {},
     "output_type": "execute_result"
    },
    {
     "data": {
      "image/png": "[encoded data removed]",
      "text/plain": [
       "<Figure size 432x288 with 1 Axes>"
      ]
     },
     "metadata": {
      "needs_background": "light"
     },
     "output_type": "display_data"
    }
   ],
   "source": [
    "sns.stripplot(data=df_processed, x='Age', y='Outcome', palette='gist_rainbow_r')"
   ]
  },
  {
   "cell_type": "markdown",
   "metadata": {},
   "source": [
    "**Observations:**\n",
    "\n",
    "- Diabetes negative people has Insulin within range of 20 to 200.\n",
    "- For BMI greater than 20 and less than 50 most cases of Diabetes.\n",
    "- For age less than 45 their are more cases of diabetes. "
   ]
  },
  {
   "cell_type": "markdown",
   "metadata": {},
   "source": [
    "# B. Model Building"
   ]
  },
  {
   "cell_type": "code",
   "execution_count": 6,
   "metadata": {},
   "outputs": [],
   "source": [
    "y = dataset[8]#col 8 has value of patient has daibaetes or not so this is our target i.e y"
   ]
  },
  {
   "cell_type": "code",
   "execution_count": 7,
   "metadata": {},
   "outputs": [
    {
     "data": {
      "text/plain": [
       "0      1\n",
       "1      0\n",
       "2      1\n",
       "3      0\n",
       "4      1\n",
       "      ..\n",
       "763    0\n",
       "764    0\n",
       "765    0\n",
       "766    1\n",
       "767    0\n",
       "Name: 8, Length: 768, dtype: int64"
      ]
     },
     "execution_count": 7,
     "metadata": {},
     "output_type": "execute_result"
    }
   ],
   "source": [
    "y"
   ]
  },
  {
   "cell_type": "code",
   "execution_count": 8,
   "metadata": {},
   "outputs": [],
   "source": [
    "X = dataset[[0,1,2,3,4,5,6,7]]"
   ]
  },
  {
   "cell_type": "code",
   "execution_count": 9,
   "metadata": {},
   "outputs": [],
   "source": [
    "from keras.models import Sequential"
   ]
  },
  {
   "cell_type": "code",
   "execution_count": 10,
   "metadata": {},
   "outputs": [],
   "source": [
    "model = Sequential()"
   ]
  },
  {
   "cell_type": "code",
   "execution_count": 11,
   "metadata": {},
   "outputs": [
    {
     "data": {
      "text/plain": [
       "{'name': 'sequential', 'layers': []}"
      ]
     },
     "execution_count": 11,
     "metadata": {},
     "output_type": "execute_result"
    }
   ],
   "source": [
    "model.get_config()# here we can see rn model is empty, it is like empty box"
   ]
  },
  {
   "cell_type": "code",
   "execution_count": 12,
   "metadata": {},
   "outputs": [],
   "source": [
    "#to add layer we use Dense function : Multiple layer is called dense\n",
    "from keras.layers import Dense"
   ]
  },
  {
   "cell_type": "code",
   "execution_count": 13,
   "metadata": {},
   "outputs": [],
   "source": [
    "model.add(Dense(units=4, #here units=4 -> number of neurons,\n",
    "                kernel_initializer = \"zeros\", # Kernel_initializer=\"zeros\" -> initialize weight as 0,\n",
    "                bias_initializer = \"zeros\", # bias_initialize= \"zeros\" -> initialize bias as zero\n",
    "                input_dim=8, #input_dim=8 , dim stands for dimention -> 8 is number of featrue we have\n",
    "                activation = \"relu\" # relu[ Rectified Linear Unit ] is a function that give value in b/w 0 and infinity\n",
    "               ))  \n"
   ]
  },
  {
   "cell_type": "markdown",
   "metadata": {},
   "source": [
    "Now our one layer is created!!"
   ]
  },
  {
   "cell_type": "code",
   "execution_count": 14,
   "metadata": {},
   "outputs": [
    {
     "data": {
      "text/plain": [
       "{'name': 'sequential',\n",
       " 'layers': [{'class_name': 'InputLayer',\n",
       "   'config': {'batch_input_shape': (None, 8),\n",
       "    'dtype': 'float32',\n",
       "    'sparse': False,\n",
       "    'ragged': False,\n",
       "    'name': 'dense_input'}},\n",
       "  {'class_name': 'Dense',\n",
       "   'config': {'name': 'dense',\n",
       "    'trainable': True,\n",
       "    'batch_input_shape': (None, 8),\n",
       "    'dtype': 'float32',\n",
       "    'units': 4,\n",
       "    'activation': 'relu',\n",
       "    'use_bias': True,\n",
       "    'kernel_initializer': {'class_name': 'Zeros', 'config': {}},\n",
       "    'bias_initializer': {'class_name': 'Zeros', 'config': {}},\n",
       "    'kernel_regularizer': None,\n",
       "    'bias_regularizer': None,\n",
       "    'activity_regularizer': None,\n",
       "    'kernel_constraint': None,\n",
       "    'bias_constraint': None}}]}"
      ]
     },
     "execution_count": 14,
     "metadata": {},
     "output_type": "execute_result"
    }
   ],
   "source": [
    "model.get_config() # now we can see here that we have created the layer with 8 feature and 4 neuron"
   ]
  },
  {
   "cell_type": "code",
   "execution_count": 15,
   "metadata": {},
   "outputs": [
    {
     "data": {
      "text/plain": [
       "<bound method Model.get_layer of <tensorflow.python.keras.engine.sequential.Sequential object at 0x000002B24FADAD48>>"
      ]
     },
     "execution_count": 15,
     "metadata": {},
     "output_type": "execute_result"
    }
   ],
   "source": [
    "#To check how many layer we have\n",
    "model.get_layer #here we can see we have only one layer"
   ]
  },
  {
   "cell_type": "code",
   "execution_count": 16,
   "metadata": {},
   "outputs": [
    {
     "name": "stdout",
     "output_type": "stream",
     "text": [
      "Model: \"sequential\"\n",
      "_________________________________________________________________\n",
      "Layer (type)                 Output Shape              Param #   \n",
      "=================================================================\n",
      "dense (Dense)                (None, 4)                 36        \n",
      "=================================================================\n",
      "Total params: 36\n",
      "Trainable params: 36\n",
      "Non-trainable params: 0\n",
      "_________________________________________________________________\n"
     ]
    }
   ],
   "source": [
    "model.summary()"
   ]
  },
  {
   "cell_type": "markdown",
   "metadata": {},
   "source": [
    "It shows we have one layer and it will give 4 output and 36 parameter(8[feature] * 4[neurons] + 4[bias] == 36 parameter)"
   ]
  },
  {
   "cell_type": "code",
   "execution_count": 17,
   "metadata": {},
   "outputs": [],
   "source": [
    "# add one more layer\n",
    "# we dont need to specify the dimention as it will automatically detect\n",
    "model.add(Dense(units=4,\n",
    "               activation =\"relu\",\n",
    "               kernel_initializer = \"zeros\",\n",
    "               bias_initializer = \"zeros\"\n",
    "               ))"
   ]
  },
  {
   "cell_type": "markdown",
   "metadata": {},
   "source": [
    "Now we have created 2nd layer"
   ]
  },
  {
   "cell_type": "code",
   "execution_count": 18,
   "metadata": {},
   "outputs": [
    {
     "data": {
      "text/plain": [
       "<bound method Model.get_layer of <tensorflow.python.keras.engine.sequential.Sequential object at 0x000002B24FADAD48>>"
      ]
     },
     "execution_count": 18,
     "metadata": {},
     "output_type": "execute_result"
    }
   ],
   "source": [
    "model.get_layer"
   ]
  },
  {
   "cell_type": "code",
   "execution_count": 19,
   "metadata": {},
   "outputs": [
    {
     "data": {
      "text/plain": [
       "{'name': 'sequential',\n",
       " 'layers': [{'class_name': 'InputLayer',\n",
       "   'config': {'batch_input_shape': (None, 8),\n",
       "    'dtype': 'float32',\n",
       "    'sparse': False,\n",
       "    'ragged': False,\n",
       "    'name': 'dense_input'}},\n",
       "  {'class_name': 'Dense',\n",
       "   'config': {'name': 'dense',\n",
       "    'trainable': True,\n",
       "    'batch_input_shape': (None, 8),\n",
       "    'dtype': 'float32',\n",
       "    'units': 4,\n",
       "    'activation': 'relu',\n",
       "    'use_bias': True,\n",
       "    'kernel_initializer': {'class_name': 'Zeros', 'config': {}},\n",
       "    'bias_initializer': {'class_name': 'Zeros', 'config': {}},\n",
       "    'kernel_regularizer': None,\n",
       "    'bias_regularizer': None,\n",
       "    'activity_regularizer': None,\n",
       "    'kernel_constraint': None,\n",
       "    'bias_constraint': None}},\n",
       "  {'class_name': 'Dense',\n",
       "   'config': {'name': 'dense_1',\n",
       "    'trainable': True,\n",
       "    'dtype': 'float32',\n",
       "    'units': 4,\n",
       "    'activation': 'relu',\n",
       "    'use_bias': True,\n",
       "    'kernel_initializer': {'class_name': 'Zeros', 'config': {}},\n",
       "    'bias_initializer': {'class_name': 'Zeros', 'config': {}},\n",
       "    'kernel_regularizer': None,\n",
       "    'bias_regularizer': None,\n",
       "    'activity_regularizer': None,\n",
       "    'kernel_constraint': None,\n",
       "    'bias_constraint': None}}]}"
      ]
     },
     "execution_count": 19,
     "metadata": {},
     "output_type": "execute_result"
    }
   ],
   "source": [
    "model.get_config()"
   ]
  },
  {
   "cell_type": "code",
   "execution_count": 20,
   "metadata": {},
   "outputs": [
    {
     "name": "stdout",
     "output_type": "stream",
     "text": [
      "Model: \"sequential\"\n",
      "_________________________________________________________________\n",
      "Layer (type)                 Output Shape              Param #   \n",
      "=================================================================\n",
      "dense (Dense)                (None, 4)                 36        \n",
      "_________________________________________________________________\n",
      "dense_1 (Dense)              (None, 4)                 20        \n",
      "=================================================================\n",
      "Total params: 56\n",
      "Trainable params: 56\n",
      "Non-trainable params: 0\n",
      "_________________________________________________________________\n"
     ]
    }
   ],
   "source": [
    "model.summary()"
   ]
  },
  {
   "cell_type": "markdown",
   "metadata": {},
   "source": [
    "dense_1 is 2nd layer it shows it will give 4 output and has 20 parameter( 4[1st layer neuron] * 4[neurons] + 4[bias])"
   ]
  },
  {
   "cell_type": "code",
   "execution_count": 21,
   "metadata": {},
   "outputs": [],
   "source": [
    "# Last layer: it usually have single neuron\n",
    "\n",
    "model.add(Dense(units=1,\n",
    "               activation=\"sigmoid\", # sigmoid function -> gives output in 0 and 1\n",
    "               kernel_initializer=\"zeros\",\n",
    "               bias_initializer = \"zeros\" \n",
    "               ))"
   ]
  },
  {
   "cell_type": "markdown",
   "metadata": {},
   "source": [
    "last layer is created which will give output : output layer"
   ]
  },
  {
   "cell_type": "code",
   "execution_count": 22,
   "metadata": {},
   "outputs": [
    {
     "data": {
      "text/plain": [
       "{'name': 'sequential',\n",
       " 'layers': [{'class_name': 'InputLayer',\n",
       "   'config': {'batch_input_shape': (None, 8),\n",
       "    'dtype': 'float32',\n",
       "    'sparse': False,\n",
       "    'ragged': False,\n",
       "    'name': 'dense_input'}},\n",
       "  {'class_name': 'Dense',\n",
       "   'config': {'name': 'dense',\n",
       "    'trainable': True,\n",
       "    'batch_input_shape': (None, 8),\n",
       "    'dtype': 'float32',\n",
       "    'units': 4,\n",
       "    'activation': 'relu',\n",
       "    'use_bias': True,\n",
       "    'kernel_initializer': {'class_name': 'Zeros', 'config': {}},\n",
       "    'bias_initializer': {'class_name': 'Zeros', 'config': {}},\n",
       "    'kernel_regularizer': None,\n",
       "    'bias_regularizer': None,\n",
       "    'activity_regularizer': None,\n",
       "    'kernel_constraint': None,\n",
       "    'bias_constraint': None}},\n",
       "  {'class_name': 'Dense',\n",
       "   'config': {'name': 'dense_1',\n",
       "    'trainable': True,\n",
       "    'dtype': 'float32',\n",
       "    'units': 4,\n",
       "    'activation': 'relu',\n",
       "    'use_bias': True,\n",
       "    'kernel_initializer': {'class_name': 'Zeros', 'config': {}},\n",
       "    'bias_initializer': {'class_name': 'Zeros', 'config': {}},\n",
       "    'kernel_regularizer': None,\n",
       "    'bias_regularizer': None,\n",
       "    'activity_regularizer': None,\n",
       "    'kernel_constraint': None,\n",
       "    'bias_constraint': None}},\n",
       "  {'class_name': 'Dense',\n",
       "   'config': {'name': 'dense_2',\n",
       "    'trainable': True,\n",
       "    'dtype': 'float32',\n",
       "    'units': 1,\n",
       "    'activation': 'sigmoid',\n",
       "    'use_bias': True,\n",
       "    'kernel_initializer': {'class_name': 'Zeros', 'config': {}},\n",
       "    'bias_initializer': {'class_name': 'Zeros', 'config': {}},\n",
       "    'kernel_regularizer': None,\n",
       "    'bias_regularizer': None,\n",
       "    'activity_regularizer': None,\n",
       "    'kernel_constraint': None,\n",
       "    'bias_constraint': None}}]}"
      ]
     },
     "execution_count": 22,
     "metadata": {},
     "output_type": "execute_result"
    }
   ],
   "source": [
    "model.get_config()"
   ]
  },
  {
   "cell_type": "code",
   "execution_count": 23,
   "metadata": {},
   "outputs": [
    {
     "name": "stdout",
     "output_type": "stream",
     "text": [
      "Model: \"sequential\"\n",
      "_________________________________________________________________\n",
      "Layer (type)                 Output Shape              Param #   \n",
      "=================================================================\n",
      "dense (Dense)                (None, 4)                 36        \n",
      "_________________________________________________________________\n",
      "dense_1 (Dense)              (None, 4)                 20        \n",
      "_________________________________________________________________\n",
      "dense_2 (Dense)              (None, 1)                 5         \n",
      "=================================================================\n",
      "Total params: 61\n",
      "Trainable params: 61\n",
      "Non-trainable params: 0\n",
      "_________________________________________________________________\n"
     ]
    }
   ],
   "source": [
    "model.summary()"
   ]
  },
  {
   "cell_type": "markdown",
   "metadata": {},
   "source": [
    "here dense_2 is our 3rd layer which will give output-> 1 (either 0 or 1 ) and has paramete\n",
    "\n",
    "here we can see total 61 parameter it will find imagine in big data , image processing millions of paramenter they will find and it takes lots of computing power"
   ]
  },
  {
   "cell_type": "code",
   "execution_count": 24,
   "metadata": {},
   "outputs": [],
   "source": [
    "#After model creation we need to compile the model to tell what is our loss funtion and which optimiser we are going to use\n",
    "\n",
    "from keras.optimizers import Adam"
   ]
  },
  {
   "cell_type": "code",
   "execution_count": 25,
   "metadata": {},
   "outputs": [],
   "source": [
    "model.compile(optimizer = Adam(), loss=\"binary_crossentropy\")\n",
    "#binary_crossentropy is a loss funciton used in binary classification works in 0 and 1."
   ]
  },
  {
   "cell_type": "code",
   "execution_count": 26,
   "metadata": {},
   "outputs": [
    {
     "name": "stdout",
     "output_type": "stream",
     "text": [
      "24/24 [==============================] - 0s 651us/step - loss: 0.6916\n"
     ]
    },
    {
     "data": {
      "text/plain": [
       "<tensorflow.python.keras.callbacks.History at 0x2b24976fbc8>"
      ]
     },
     "execution_count": 26,
     "metadata": {},
     "output_type": "execute_result"
    }
   ],
   "source": [
    "model.fit(X,y) #here we can see the loss we have"
   ]
  },
  {
   "cell_type": "code",
   "execution_count": 27,
   "metadata": {},
   "outputs": [
    {
     "name": "stdout",
     "output_type": "stream",
     "text": [
      "Epoch 1/100\n",
      "24/24 [==============================] - 0s 610us/step - loss: 0.6886\n",
      "Epoch 2/100\n",
      "24/24 [==============================] - 0s 699us/step - loss: 0.6857\n",
      "Epoch 3/100\n",
      "24/24 [==============================] - 0s 665us/step - loss: 0.6831\n",
      "Epoch 4/100\n",
      "24/24 [==============================] - 0s 706us/step - loss: 0.6804\n",
      "Epoch 5/100\n",
      "24/24 [==============================] - 0s 708us/step - loss: 0.6781\n",
      "Epoch 6/100\n",
      "24/24 [==============================] - 0s 744us/step - loss: 0.6758\n",
      "Epoch 7/100\n",
      "24/24 [==============================] - 0s 737us/step - loss: 0.6737\n",
      "Epoch 8/100\n",
      "24/24 [==============================] - 0s 666us/step - loss: 0.6719\n",
      "Epoch 9/100\n",
      "24/24 [==============================] - 0s 678us/step - loss: 0.6698\n",
      "Epoch 10/100\n",
      "24/24 [==============================] - 0s 701us/step - loss: 0.6682\n",
      "Epoch 11/100\n",
      "24/24 [==============================] - 0s 655us/step - loss: 0.6666\n",
      "Epoch 12/100\n",
      "24/24 [==============================] - 0s 658us/step - loss: 0.6651\n",
      "Epoch 13/100\n",
      "24/24 [==============================] - 0s 676us/step - loss: 0.6636\n",
      "Epoch 14/100\n",
      "24/24 [==============================] - 0s 744us/step - loss: 0.6623\n",
      "Epoch 15/100\n",
      "24/24 [==============================] - ETA: 0s - loss: 0.668 - 0s 709us/step - loss: 0.6611\n",
      "Epoch 16/100\n",
      "24/24 [==============================] - 0s 706us/step - loss: 0.6599\n",
      "Epoch 17/100\n",
      "24/24 [==============================] - 0s 686us/step - loss: 0.6588\n",
      "Epoch 18/100\n",
      "24/24 [==============================] - 0s 672us/step - loss: 0.6580\n",
      "Epoch 19/100\n",
      "24/24 [==============================] - 0s 641us/step - loss: 0.6569\n",
      "Epoch 20/100\n",
      "24/24 [==============================] - 0s 683us/step - loss: 0.6561\n",
      "Epoch 21/100\n",
      "24/24 [==============================] - 0s 667us/step - loss: 0.6553\n",
      "Epoch 22/100\n",
      "24/24 [==============================] - 0s 784us/step - loss: 0.6547\n",
      "Epoch 23/100\n",
      "24/24 [==============================] - 0s 747us/step - loss: 0.6539\n",
      "Epoch 24/100\n",
      "24/24 [==============================] - 0s 768us/step - loss: 0.6534\n",
      "Epoch 25/100\n",
      "24/24 [==============================] - 0s 1ms/step - loss: 0.6527\n",
      "Epoch 26/100\n",
      "24/24 [==============================] - 0s 861us/step - loss: 0.6523\n",
      "Epoch 27/100\n",
      "24/24 [==============================] - 0s 664us/step - loss: 0.6517\n",
      "Epoch 28/100\n",
      "24/24 [==============================] - 0s 742us/step - loss: 0.6513\n",
      "Epoch 29/100\n",
      "24/24 [==============================] - 0s 707us/step - loss: 0.6509\n",
      "Epoch 30/100\n",
      "24/24 [==============================] - 0s 726us/step - loss: 0.6505\n",
      "Epoch 31/100\n",
      "24/24 [==============================] - 0s 714us/step - loss: 0.6502\n",
      "Epoch 32/100\n",
      "24/24 [==============================] - 0s 694us/step - loss: 0.6499\n",
      "Epoch 33/100\n",
      "24/24 [==============================] - 0s 693us/step - loss: 0.6496\n",
      "Epoch 34/100\n",
      "24/24 [==============================] - 0s 658us/step - loss: 0.6493\n",
      "Epoch 35/100\n",
      "24/24 [==============================] - 0s 667us/step - loss: 0.6491\n",
      "Epoch 36/100\n",
      "24/24 [==============================] - 0s 747us/step - loss: 0.6489\n",
      "Epoch 37/100\n",
      "24/24 [==============================] - 0s 703us/step - loss: 0.6487\n",
      "Epoch 38/100\n",
      "24/24 [==============================] - 0s 754us/step - loss: 0.6485\n",
      "Epoch 39/100\n",
      "24/24 [==============================] - 0s 665us/step - loss: 0.6483\n",
      "Epoch 40/100\n",
      "24/24 [==============================] - 0s 657us/step - loss: 0.6482\n",
      "Epoch 41/100\n",
      "24/24 [==============================] - 0s 666us/step - loss: 0.6481\n",
      "Epoch 42/100\n",
      "24/24 [==============================] - 0s 687us/step - loss: 0.6479\n",
      "Epoch 43/100\n",
      "24/24 [==============================] - 0s 687us/step - loss: 0.6478\n",
      "Epoch 44/100\n",
      "24/24 [==============================] - 0s 675us/step - loss: 0.6477\n",
      "Epoch 45/100\n",
      "24/24 [==============================] - 0s 695us/step - loss: 0.6477\n",
      "Epoch 46/100\n",
      "24/24 [==============================] - 0s 748us/step - loss: 0.6476\n",
      "Epoch 47/100\n",
      "24/24 [==============================] - 0s 698us/step - loss: 0.6475\n",
      "Epoch 48/100\n",
      "24/24 [==============================] - 0s 623us/step - loss: 0.6474\n",
      "Epoch 49/100\n",
      "24/24 [==============================] - 0s 656us/step - loss: 0.6474\n",
      "Epoch 50/100\n",
      "24/24 [==============================] - 0s 653us/step - loss: 0.6473\n",
      "Epoch 51/100\n",
      "24/24 [==============================] - 0s 757us/step - loss: 0.6472\n",
      "Epoch 52/100\n",
      "24/24 [==============================] - 0s 568us/step - loss: 0.6472\n",
      "Epoch 53/100\n",
      "24/24 [==============================] - 0s 726us/step - loss: 0.6472\n",
      "Epoch 54/100\n",
      "24/24 [==============================] - 0s 797us/step - loss: 0.6471\n",
      "Epoch 55/100\n",
      "24/24 [==============================] - 0s 720us/step - loss: 0.6471\n",
      "Epoch 56/100\n",
      "24/24 [==============================] - 0s 625us/step - loss: 0.6470\n",
      "Epoch 57/100\n",
      "24/24 [==============================] - 0s 584us/step - loss: 0.6470\n",
      "Epoch 58/100\n",
      "24/24 [==============================] - 0s 604us/step - loss: 0.6470\n",
      "Epoch 59/100\n",
      "24/24 [==============================] - 0s 592us/step - loss: 0.6470\n",
      "Epoch 60/100\n",
      "24/24 [==============================] - 0s 596us/step - loss: 0.6470\n",
      "Epoch 61/100\n",
      "24/24 [==============================] - 0s 609us/step - loss: 0.6470\n",
      "Epoch 62/100\n",
      "24/24 [==============================] - 0s 491us/step - loss: 0.6469\n",
      "Epoch 63/100\n",
      "24/24 [==============================] - 0s 665us/step - loss: 0.6469\n",
      "Epoch 64/100\n",
      "24/24 [==============================] - 0s 640us/step - loss: 0.6469\n",
      "Epoch 65/100\n",
      "24/24 [==============================] - 0s 611us/step - loss: 0.6469\n",
      "Epoch 66/100\n",
      "24/24 [==============================] - 0s 535us/step - loss: 0.6469\n",
      "Epoch 67/100\n",
      "24/24 [==============================] - 0s 539us/step - loss: 0.6469\n",
      "Epoch 68/100\n",
      "24/24 [==============================] - 0s 563us/step - loss: 0.6469\n",
      "Epoch 69/100\n",
      "24/24 [==============================] - 0s 581us/step - loss: 0.6469\n",
      "Epoch 70/100\n",
      "24/24 [==============================] - 0s 548us/step - loss: 0.6469\n",
      "Epoch 71/100\n",
      "24/24 [==============================] - 0s 579us/step - loss: 0.6469\n",
      "Epoch 72/100\n",
      "24/24 [==============================] - 0s 617us/step - loss: 0.6469\n",
      "Epoch 73/100\n",
      "24/24 [==============================] - 0s 618us/step - loss: 0.6468\n",
      "Epoch 74/100\n",
      "24/24 [==============================] - 0s 614us/step - loss: 0.6468\n",
      "Epoch 75/100\n",
      "24/24 [==============================] - 0s 631us/step - loss: 0.6469\n",
      "Epoch 76/100\n",
      "24/24 [==============================] - 0s 638us/step - loss: 0.6468\n",
      "Epoch 77/100\n",
      "24/24 [==============================] - 0s 622us/step - loss: 0.6468\n",
      "Epoch 78/100\n",
      "24/24 [==============================] - 0s 708us/step - loss: 0.6468\n",
      "Epoch 79/100\n",
      "24/24 [==============================] - 0s 628us/step - loss: 0.6468\n",
      "Epoch 80/100\n",
      "24/24 [==============================] - 0s 671us/step - loss: 0.6468\n",
      "Epoch 81/100\n",
      "24/24 [==============================] - 0s 703us/step - loss: 0.6468\n",
      "Epoch 82/100\n",
      "24/24 [==============================] - 0s 790us/step - loss: 0.6468\n",
      "Epoch 83/100\n",
      "24/24 [==============================] - 0s 831us/step - loss: 0.6468\n",
      "Epoch 84/100\n",
      "24/24 [==============================] - 0s 791us/step - loss: 0.6468\n",
      "Epoch 85/100\n",
      "24/24 [==============================] - 0s 708us/step - loss: 0.6468\n",
      "Epoch 86/100\n",
      "24/24 [==============================] - 0s 689us/step - loss: 0.6468\n",
      "Epoch 87/100\n",
      "24/24 [==============================] - 0s 693us/step - loss: 0.6468\n",
      "Epoch 88/100\n",
      "24/24 [==============================] - 0s 696us/step - loss: 0.6468\n",
      "Epoch 89/100\n",
      "24/24 [==============================] - 0s 665us/step - loss: 0.6468\n",
      "Epoch 90/100\n",
      "24/24 [==============================] - 0s 657us/step - loss: 0.6468\n",
      "Epoch 91/100\n",
      "24/24 [==============================] - 0s 605us/step - loss: 0.6468\n",
      "Epoch 92/100\n",
      "24/24 [==============================] - 0s 571us/step - loss: 0.6468\n",
      "Epoch 93/100\n",
      "24/24 [==============================] - 0s 632us/step - loss: 0.6468\n",
      "Epoch 94/100\n",
      "24/24 [==============================] - 0s 563us/step - loss: 0.6468\n",
      "Epoch 95/100\n",
      "24/24 [==============================] - 0s 540us/step - loss: 0.6468\n",
      "Epoch 96/100\n",
      "24/24 [==============================] - 0s 572us/step - loss: 0.6468\n",
      "Epoch 97/100\n",
      "24/24 [==============================] - 0s 606us/step - loss: 0.6468\n",
      "Epoch 98/100\n",
      "24/24 [==============================] - 0s 645us/step - loss: 0.6469\n",
      "Epoch 99/100\n",
      "24/24 [==============================] - 0s 618us/step - loss: 0.6468\n",
      "Epoch 100/100\n",
      "24/24 [==============================] - 0s 623us/step - loss: 0.6468\n"
     ]
    },
    {
     "data": {
      "text/plain": [
       "<tensorflow.python.keras.callbacks.History at 0x2b2511a8a48>"
      ]
     },
     "execution_count": 27,
     "metadata": {},
     "output_type": "execute_result"
    }
   ],
   "source": [
    "#if we are not happy with the weight and bias then we can go back and reset the weight and bias and again train model\n",
    "# this is called backpropogation\n",
    "# epochs is use to set how many times we need to go back\n",
    "\n",
    "\n",
    "model.fit(X,y, epochs=100)"
   ]
  },
  {
   "cell_type": "markdown",
   "metadata": {},
   "source": [
    "Here we can see epochs train the model 100 times and we can see loss is decreased"
   ]
  },
  {
   "cell_type": "code",
   "execution_count": 28,
   "metadata": {},
   "outputs": [],
   "source": [
    "model.save(\"dia_model.h5\")"
   ]
  }
 ],
 "metadata": {
  "kernelspec": {
   "display_name": "Python 3.9.12 ('base')",
   "language": "python",
   "name": "python3"
  },
  "language_info": {
   "codemirror_mode": {
    "name": "ipython",
    "version": 3
   },
   "file_extension": ".py",
   "mimetype": "text/x-python",
   "name": "python",
   "nbconvert_exporter": "python",
   "pygments_lexer": "ipython3",
   "version": "3.9.12"
  },
  "vscode": {
   "interpreter": {
    "hash": "198dc38c81252feb4faa0d475279f5f6c993dd4570bd3709069413259282040c"
   }
  }
 },
 "nbformat": 4,
 "nbformat_minor": 4
}
