{
 "cells": [
  {
   "cell_type": "code",
   "execution_count": 1,
   "metadata": {},
   "outputs": [],
   "source": [
    "import pandas"
   ]
  },
  {
   "cell_type": "code",
   "execution_count": 2,
   "metadata": {},
   "outputs": [
    {
     "data": {
      "text/html": [
       "<div>\n",
       "<style scoped>\n",
       "    .dataframe tbody tr th:only-of-type {\n",
       "        vertical-align: middle;\n",
       "    }\n",
       "\n",
       "    .dataframe tbody tr th {\n",
       "        vertical-align: top;\n",
       "    }\n",
       "\n",
       "    .dataframe thead th {\n",
       "        text-align: right;\n",
       "    }\n",
       "</style>\n",
       "<table border=\"1\" class=\"dataframe\">\n",
       "  <thead>\n",
       "    <tr style=\"text-align: right;\">\n",
       "      <th></th>\n",
       "      <th>6</th>\n",
       "      <th>148</th>\n",
       "      <th>72</th>\n",
       "      <th>35</th>\n",
       "      <th>0</th>\n",
       "      <th>33.6</th>\n",
       "      <th>0.627</th>\n",
       "      <th>50</th>\n",
       "      <th>1</th>\n",
       "    </tr>\n",
       "  </thead>\n",
       "  <tbody>\n",
       "    <tr>\n",
       "      <th>0</th>\n",
       "      <td>1</td>\n",
       "      <td>85</td>\n",
       "      <td>66</td>\n",
       "      <td>29</td>\n",
       "      <td>0</td>\n",
       "      <td>26.6</td>\n",
       "      <td>0.351</td>\n",
       "      <td>31</td>\n",
       "      <td>0</td>\n",
       "    </tr>\n",
       "    <tr>\n",
       "      <th>1</th>\n",
       "      <td>8</td>\n",
       "      <td>183</td>\n",
       "      <td>64</td>\n",
       "      <td>0</td>\n",
       "      <td>0</td>\n",
       "      <td>23.3</td>\n",
       "      <td>0.672</td>\n",
       "      <td>32</td>\n",
       "      <td>1</td>\n",
       "    </tr>\n",
       "    <tr>\n",
       "      <th>2</th>\n",
       "      <td>1</td>\n",
       "      <td>89</td>\n",
       "      <td>66</td>\n",
       "      <td>23</td>\n",
       "      <td>94</td>\n",
       "      <td>28.1</td>\n",
       "      <td>0.167</td>\n",
       "      <td>21</td>\n",
       "      <td>0</td>\n",
       "    </tr>\n",
       "    <tr>\n",
       "      <th>3</th>\n",
       "      <td>0</td>\n",
       "      <td>137</td>\n",
       "      <td>40</td>\n",
       "      <td>35</td>\n",
       "      <td>168</td>\n",
       "      <td>43.1</td>\n",
       "      <td>2.288</td>\n",
       "      <td>33</td>\n",
       "      <td>1</td>\n",
       "    </tr>\n",
       "    <tr>\n",
       "      <th>4</th>\n",
       "      <td>5</td>\n",
       "      <td>116</td>\n",
       "      <td>74</td>\n",
       "      <td>0</td>\n",
       "      <td>0</td>\n",
       "      <td>25.6</td>\n",
       "      <td>0.201</td>\n",
       "      <td>30</td>\n",
       "      <td>0</td>\n",
       "    </tr>\n",
       "    <tr>\n",
       "      <th>...</th>\n",
       "      <td>...</td>\n",
       "      <td>...</td>\n",
       "      <td>...</td>\n",
       "      <td>...</td>\n",
       "      <td>...</td>\n",
       "      <td>...</td>\n",
       "      <td>...</td>\n",
       "      <td>...</td>\n",
       "      <td>...</td>\n",
       "    </tr>\n",
       "    <tr>\n",
       "      <th>762</th>\n",
       "      <td>10</td>\n",
       "      <td>101</td>\n",
       "      <td>76</td>\n",
       "      <td>48</td>\n",
       "      <td>180</td>\n",
       "      <td>32.9</td>\n",
       "      <td>0.171</td>\n",
       "      <td>63</td>\n",
       "      <td>0</td>\n",
       "    </tr>\n",
       "    <tr>\n",
       "      <th>763</th>\n",
       "      <td>2</td>\n",
       "      <td>122</td>\n",
       "      <td>70</td>\n",
       "      <td>27</td>\n",
       "      <td>0</td>\n",
       "      <td>36.8</td>\n",
       "      <td>0.340</td>\n",
       "      <td>27</td>\n",
       "      <td>0</td>\n",
       "    </tr>\n",
       "    <tr>\n",
       "      <th>764</th>\n",
       "      <td>5</td>\n",
       "      <td>121</td>\n",
       "      <td>72</td>\n",
       "      <td>23</td>\n",
       "      <td>112</td>\n",
       "      <td>26.2</td>\n",
       "      <td>0.245</td>\n",
       "      <td>30</td>\n",
       "      <td>0</td>\n",
       "    </tr>\n",
       "    <tr>\n",
       "      <th>765</th>\n",
       "      <td>1</td>\n",
       "      <td>126</td>\n",
       "      <td>60</td>\n",
       "      <td>0</td>\n",
       "      <td>0</td>\n",
       "      <td>30.1</td>\n",
       "      <td>0.349</td>\n",
       "      <td>47</td>\n",
       "      <td>1</td>\n",
       "    </tr>\n",
       "    <tr>\n",
       "      <th>766</th>\n",
       "      <td>1</td>\n",
       "      <td>93</td>\n",
       "      <td>70</td>\n",
       "      <td>31</td>\n",
       "      <td>0</td>\n",
       "      <td>30.4</td>\n",
       "      <td>0.315</td>\n",
       "      <td>23</td>\n",
       "      <td>0</td>\n",
       "    </tr>\n",
       "  </tbody>\n",
       "</table>\n",
       "<p>767 rows × 9 columns</p>\n",
       "</div>"
      ],
      "text/plain": [
       "      6  148  72  35    0  33.6  0.627  50  1\n",
       "0     1   85  66  29    0  26.6  0.351  31  0\n",
       "1     8  183  64   0    0  23.3  0.672  32  1\n",
       "2     1   89  66  23   94  28.1  0.167  21  0\n",
       "3     0  137  40  35  168  43.1  2.288  33  1\n",
       "4     5  116  74   0    0  25.6  0.201  30  0\n",
       "..   ..  ...  ..  ..  ...   ...    ...  .. ..\n",
       "762  10  101  76  48  180  32.9  0.171  63  0\n",
       "763   2  122  70  27    0  36.8  0.340  27  0\n",
       "764   5  121  72  23  112  26.2  0.245  30  0\n",
       "765   1  126  60   0    0  30.1  0.349  47  1\n",
       "766   1   93  70  31    0  30.4  0.315  23  0\n",
       "\n",
       "[767 rows x 9 columns]"
      ]
     },
     "execution_count": 2,
     "metadata": {},
     "output_type": "execute_result"
    }
   ],
   "source": [
    "pandas.read_csv('pime_indians_diabetes.csv')"
   ]
  },
  {
   "cell_type": "code",
   "execution_count": 3,
   "metadata": {},
   "outputs": [],
   "source": [
    "dataset = pandas.read_csv('pime_indians_diabetes.csv', header = None)#we need to be specific to pandas that in this dataset we do not have header\n",
    "# so consiser first line also record"
   ]
  },
  {
   "cell_type": "code",
   "execution_count": 4,
   "metadata": {},
   "outputs": [
    {
     "name": "stdout",
     "output_type": "stream",
     "text": [
      "<class 'pandas.core.frame.DataFrame'>\n",
      "RangeIndex: 768 entries, 0 to 767\n",
      "Data columns (total 9 columns):\n",
      " #   Column  Non-Null Count  Dtype  \n",
      "---  ------  --------------  -----  \n",
      " 0   0       768 non-null    int64  \n",
      " 1   1       768 non-null    int64  \n",
      " 2   2       768 non-null    int64  \n",
      " 3   3       768 non-null    int64  \n",
      " 4   4       768 non-null    int64  \n",
      " 5   5       768 non-null    float64\n",
      " 6   6       768 non-null    float64\n",
      " 7   7       768 non-null    int64  \n",
      " 8   8       768 non-null    int64  \n",
      "dtypes: float64(2), int64(7)\n",
      "memory usage: 54.1 KB\n"
     ]
    }
   ],
   "source": [
    "dataset.info()"
   ]
  },
  {
   "cell_type": "code",
   "execution_count": 5,
   "metadata": {},
   "outputs": [
    {
     "data": {
      "text/html": [
       "<div>\n",
       "<style scoped>\n",
       "    .dataframe tbody tr th:only-of-type {\n",
       "        vertical-align: middle;\n",
       "    }\n",
       "\n",
       "    .dataframe tbody tr th {\n",
       "        vertical-align: top;\n",
       "    }\n",
       "\n",
       "    .dataframe thead th {\n",
       "        text-align: right;\n",
       "    }\n",
       "</style>\n",
       "<table border=\"1\" class=\"dataframe\">\n",
       "  <thead>\n",
       "    <tr style=\"text-align: right;\">\n",
       "      <th></th>\n",
       "      <th>0</th>\n",
       "      <th>1</th>\n",
       "      <th>2</th>\n",
       "      <th>3</th>\n",
       "      <th>4</th>\n",
       "      <th>5</th>\n",
       "      <th>6</th>\n",
       "      <th>7</th>\n",
       "      <th>8</th>\n",
       "    </tr>\n",
       "  </thead>\n",
       "  <tbody>\n",
       "    <tr>\n",
       "      <th>0</th>\n",
       "      <td>6</td>\n",
       "      <td>148</td>\n",
       "      <td>72</td>\n",
       "      <td>35</td>\n",
       "      <td>0</td>\n",
       "      <td>33.6</td>\n",
       "      <td>0.627</td>\n",
       "      <td>50</td>\n",
       "      <td>1</td>\n",
       "    </tr>\n",
       "    <tr>\n",
       "      <th>1</th>\n",
       "      <td>1</td>\n",
       "      <td>85</td>\n",
       "      <td>66</td>\n",
       "      <td>29</td>\n",
       "      <td>0</td>\n",
       "      <td>26.6</td>\n",
       "      <td>0.351</td>\n",
       "      <td>31</td>\n",
       "      <td>0</td>\n",
       "    </tr>\n",
       "    <tr>\n",
       "      <th>2</th>\n",
       "      <td>8</td>\n",
       "      <td>183</td>\n",
       "      <td>64</td>\n",
       "      <td>0</td>\n",
       "      <td>0</td>\n",
       "      <td>23.3</td>\n",
       "      <td>0.672</td>\n",
       "      <td>32</td>\n",
       "      <td>1</td>\n",
       "    </tr>\n",
       "    <tr>\n",
       "      <th>3</th>\n",
       "      <td>1</td>\n",
       "      <td>89</td>\n",
       "      <td>66</td>\n",
       "      <td>23</td>\n",
       "      <td>94</td>\n",
       "      <td>28.1</td>\n",
       "      <td>0.167</td>\n",
       "      <td>21</td>\n",
       "      <td>0</td>\n",
       "    </tr>\n",
       "    <tr>\n",
       "      <th>4</th>\n",
       "      <td>0</td>\n",
       "      <td>137</td>\n",
       "      <td>40</td>\n",
       "      <td>35</td>\n",
       "      <td>168</td>\n",
       "      <td>43.1</td>\n",
       "      <td>2.288</td>\n",
       "      <td>33</td>\n",
       "      <td>1</td>\n",
       "    </tr>\n",
       "  </tbody>\n",
       "</table>\n",
       "</div>"
      ],
      "text/plain": [
       "   0    1   2   3    4     5      6   7  8\n",
       "0  6  148  72  35    0  33.6  0.627  50  1\n",
       "1  1   85  66  29    0  26.6  0.351  31  0\n",
       "2  8  183  64   0    0  23.3  0.672  32  1\n",
       "3  1   89  66  23   94  28.1  0.167  21  0\n",
       "4  0  137  40  35  168  43.1  2.288  33  1"
      ]
     },
     "execution_count": 5,
     "metadata": {},
     "output_type": "execute_result"
    }
   ],
   "source": [
    "dataset.head()"
   ]
  },
  {
   "cell_type": "code",
   "execution_count": 6,
   "metadata": {},
   "outputs": [],
   "source": [
    "y = dataset[8]#col 8 has value of patient has daibaetes or not so this is our target i.e y"
   ]
  },
  {
   "cell_type": "code",
   "execution_count": 7,
   "metadata": {},
   "outputs": [
    {
     "data": {
      "text/plain": [
       "0      1\n",
       "1      0\n",
       "2      1\n",
       "3      0\n",
       "4      1\n",
       "      ..\n",
       "763    0\n",
       "764    0\n",
       "765    0\n",
       "766    1\n",
       "767    0\n",
       "Name: 8, Length: 768, dtype: int64"
      ]
     },
     "execution_count": 7,
     "metadata": {},
     "output_type": "execute_result"
    }
   ],
   "source": [
    "y"
   ]
  },
  {
   "cell_type": "code",
   "execution_count": 8,
   "metadata": {},
   "outputs": [],
   "source": [
    "X = dataset[[0,1,2,3,4,5,6,7]]"
   ]
  },
  {
   "cell_type": "code",
   "execution_count": 9,
   "metadata": {},
   "outputs": [],
   "source": [
    "from keras.models import Sequential"
   ]
  },
  {
   "cell_type": "code",
   "execution_count": 10,
   "metadata": {},
   "outputs": [],
   "source": [
    "model = Sequential()"
   ]
  },
  {
   "cell_type": "code",
   "execution_count": 11,
   "metadata": {},
   "outputs": [
    {
     "data": {
      "text/plain": [
       "{'name': 'sequential', 'layers': []}"
      ]
     },
     "execution_count": 11,
     "metadata": {},
     "output_type": "execute_result"
    }
   ],
   "source": [
    "model.get_config()# here we can see rn model is empty, it is like empty box"
   ]
  },
  {
   "cell_type": "code",
   "execution_count": 12,
   "metadata": {},
   "outputs": [],
   "source": [
    "#to add layer we use Dense function : Multiple layer is called dense\n",
    "from keras.layers import Dense"
   ]
  },
  {
   "cell_type": "code",
   "execution_count": 13,
   "metadata": {},
   "outputs": [],
   "source": [
    "model.add(Dense(units=4, #here units=4 -> number of neurons,\n",
    "                kernel_initializer = \"zeros\", # Kernel_initializer=\"zeros\" -> initialize weight as 0,\n",
    "                bias_initializer = \"zeros\", # bias_initialize= \"zeros\" -> initialize bias as zero\n",
    "                input_dim=8, #input_dim=8 , dim stands for dimention -> 8 is number of featrue we have\n",
    "                activation = \"relu\" # relu[ Rectified Linear Unit ] is a function that give value in b/w 0 and infinity\n",
    "               ))  \n"
   ]
  },
  {
   "cell_type": "markdown",
   "metadata": {},
   "source": [
    "Now our one layer is created!!"
   ]
  },
  {
   "cell_type": "code",
   "execution_count": 14,
   "metadata": {},
   "outputs": [
    {
     "data": {
      "text/plain": [
       "{'name': 'sequential',\n",
       " 'layers': [{'class_name': 'InputLayer',\n",
       "   'config': {'batch_input_shape': (None, 8),\n",
       "    'dtype': 'float32',\n",
       "    'sparse': False,\n",
       "    'ragged': False,\n",
       "    'name': 'dense_input'}},\n",
       "  {'class_name': 'Dense',\n",
       "   'config': {'name': 'dense',\n",
       "    'trainable': True,\n",
       "    'batch_input_shape': (None, 8),\n",
       "    'dtype': 'float32',\n",
       "    'units': 4,\n",
       "    'activation': 'relu',\n",
       "    'use_bias': True,\n",
       "    'kernel_initializer': {'class_name': 'Zeros', 'config': {}},\n",
       "    'bias_initializer': {'class_name': 'Zeros', 'config': {}},\n",
       "    'kernel_regularizer': None,\n",
       "    'bias_regularizer': None,\n",
       "    'activity_regularizer': None,\n",
       "    'kernel_constraint': None,\n",
       "    'bias_constraint': None}}]}"
      ]
     },
     "execution_count": 14,
     "metadata": {},
     "output_type": "execute_result"
    }
   ],
   "source": [
    "model.get_config() # now we can see here that we have created the layer with 8 feature and 4 neuron"
   ]
  },
  {
   "cell_type": "code",
   "execution_count": 15,
   "metadata": {},
   "outputs": [
    {
     "data": {
      "text/plain": [
       "<bound method Model.get_layer of <tensorflow.python.keras.engine.sequential.Sequential object at 0x000002B24FADAD48>>"
      ]
     },
     "execution_count": 15,
     "metadata": {},
     "output_type": "execute_result"
    }
   ],
   "source": [
    "#To check how many layer we have\n",
    "model.get_layer #here we can see we have only one layer"
   ]
  },
  {
   "cell_type": "code",
   "execution_count": 16,
   "metadata": {},
   "outputs": [
    {
     "name": "stdout",
     "output_type": "stream",
     "text": [
      "Model: \"sequential\"\n",
      "_________________________________________________________________\n",
      "Layer (type)                 Output Shape              Param #   \n",
      "=================================================================\n",
      "dense (Dense)                (None, 4)                 36        \n",
      "=================================================================\n",
      "Total params: 36\n",
      "Trainable params: 36\n",
      "Non-trainable params: 0\n",
      "_________________________________________________________________\n"
     ]
    }
   ],
   "source": [
    "model.summary()"
   ]
  },
  {
   "cell_type": "markdown",
   "metadata": {},
   "source": [
    "It shows we have one layer and it will give 4 output and 36 parameter(8[feature] * 4[neurons] + 4[bias] == 36 parameter)"
   ]
  },
  {
   "cell_type": "code",
   "execution_count": 17,
   "metadata": {},
   "outputs": [],
   "source": [
    "# add one more layer\n",
    "# we dont need to specify the dimention as it will automatically detect\n",
    "model.add(Dense(units=4,\n",
    "               activation =\"relu\",\n",
    "               kernel_initializer = \"zeros\",\n",
    "               bias_initializer = \"zeros\"\n",
    "               ))"
   ]
  },
  {
   "cell_type": "markdown",
   "metadata": {},
   "source": [
    "Now we have created 2nd layer"
   ]
  },
  {
   "cell_type": "code",
   "execution_count": 18,
   "metadata": {},
   "outputs": [
    {
     "data": {
      "text/plain": [
       "<bound method Model.get_layer of <tensorflow.python.keras.engine.sequential.Sequential object at 0x000002B24FADAD48>>"
      ]
     },
     "execution_count": 18,
     "metadata": {},
     "output_type": "execute_result"
    }
   ],
   "source": [
    "model.get_layer"
   ]
  },
  {
   "cell_type": "code",
   "execution_count": 19,
   "metadata": {},
   "outputs": [
    {
     "data": {
      "text/plain": [
       "{'name': 'sequential',\n",
       " 'layers': [{'class_name': 'InputLayer',\n",
       "   'config': {'batch_input_shape': (None, 8),\n",
       "    'dtype': 'float32',\n",
       "    'sparse': False,\n",
       "    'ragged': False,\n",
       "    'name': 'dense_input'}},\n",
       "  {'class_name': 'Dense',\n",
       "   'config': {'name': 'dense',\n",
       "    'trainable': True,\n",
       "    'batch_input_shape': (None, 8),\n",
       "    'dtype': 'float32',\n",
       "    'units': 4,\n",
       "    'activation': 'relu',\n",
       "    'use_bias': True,\n",
       "    'kernel_initializer': {'class_name': 'Zeros', 'config': {}},\n",
       "    'bias_initializer': {'class_name': 'Zeros', 'config': {}},\n",
       "    'kernel_regularizer': None,\n",
       "    'bias_regularizer': None,\n",
       "    'activity_regularizer': None,\n",
       "    'kernel_constraint': None,\n",
       "    'bias_constraint': None}},\n",
       "  {'class_name': 'Dense',\n",
       "   'config': {'name': 'dense_1',\n",
       "    'trainable': True,\n",
       "    'dtype': 'float32',\n",
       "    'units': 4,\n",
       "    'activation': 'relu',\n",
       "    'use_bias': True,\n",
       "    'kernel_initializer': {'class_name': 'Zeros', 'config': {}},\n",
       "    'bias_initializer': {'class_name': 'Zeros', 'config': {}},\n",
       "    'kernel_regularizer': None,\n",
       "    'bias_regularizer': None,\n",
       "    'activity_regularizer': None,\n",
       "    'kernel_constraint': None,\n",
       "    'bias_constraint': None}}]}"
      ]
     },
     "execution_count": 19,
     "metadata": {},
     "output_type": "execute_result"
    }
   ],
   "source": [
    "model.get_config()"
   ]
  },
  {
   "cell_type": "code",
   "execution_count": 20,
   "metadata": {},
   "outputs": [
    {
     "name": "stdout",
     "output_type": "stream",
     "text": [
      "Model: \"sequential\"\n",
      "_________________________________________________________________\n",
      "Layer (type)                 Output Shape              Param #   \n",
      "=================================================================\n",
      "dense (Dense)                (None, 4)                 36        \n",
      "_________________________________________________________________\n",
      "dense_1 (Dense)              (None, 4)                 20        \n",
      "=================================================================\n",
      "Total params: 56\n",
      "Trainable params: 56\n",
      "Non-trainable params: 0\n",
      "_________________________________________________________________\n"
     ]
    }
   ],
   "source": [
    "model.summary()"
   ]
  },
  {
   "cell_type": "markdown",
   "metadata": {},
   "source": [
    "dense_1 is 2nd layer it shows it will give 4 output and has 20 parameter( 4[1st layer neuron] * 4[neurons] + 4[bias])"
   ]
  },
  {
   "cell_type": "code",
   "execution_count": 21,
   "metadata": {},
   "outputs": [],
   "source": [
    "# Last layer: it usually have single neuron\n",
    "\n",
    "model.add(Dense(units=1,\n",
    "               activation=\"sigmoid\", # sigmoid function -> gives output in 0 and 1\n",
    "               kernel_initializer=\"zeros\",\n",
    "               bias_initializer = \"zeros\" \n",
    "               ))"
   ]
  },
  {
   "cell_type": "markdown",
   "metadata": {},
   "source": [
    "last layer is created which will give output : output layer"
   ]
  },
  {
   "cell_type": "code",
   "execution_count": 22,
   "metadata": {},
   "outputs": [
    {
     "data": {
      "text/plain": [
       "{'name': 'sequential',\n",
       " 'layers': [{'class_name': 'InputLayer',\n",
       "   'config': {'batch_input_shape': (None, 8),\n",
       "    'dtype': 'float32',\n",
       "    'sparse': False,\n",
       "    'ragged': False,\n",
       "    'name': 'dense_input'}},\n",
       "  {'class_name': 'Dense',\n",
       "   'config': {'name': 'dense',\n",
       "    'trainable': True,\n",
       "    'batch_input_shape': (None, 8),\n",
       "    'dtype': 'float32',\n",
       "    'units': 4,\n",
       "    'activation': 'relu',\n",
       "    'use_bias': True,\n",
       "    'kernel_initializer': {'class_name': 'Zeros', 'config': {}},\n",
       "    'bias_initializer': {'class_name': 'Zeros', 'config': {}},\n",
       "    'kernel_regularizer': None,\n",
       "    'bias_regularizer': None,\n",
       "    'activity_regularizer': None,\n",
       "    'kernel_constraint': None,\n",
       "    'bias_constraint': None}},\n",
       "  {'class_name': 'Dense',\n",
       "   'config': {'name': 'dense_1',\n",
       "    'trainable': True,\n",
       "    'dtype': 'float32',\n",
       "    'units': 4,\n",
       "    'activation': 'relu',\n",
       "    'use_bias': True,\n",
       "    'kernel_initializer': {'class_name': 'Zeros', 'config': {}},\n",
       "    'bias_initializer': {'class_name': 'Zeros', 'config': {}},\n",
       "    'kernel_regularizer': None,\n",
       "    'bias_regularizer': None,\n",
       "    'activity_regularizer': None,\n",
       "    'kernel_constraint': None,\n",
       "    'bias_constraint': None}},\n",
       "  {'class_name': 'Dense',\n",
       "   'config': {'name': 'dense_2',\n",
       "    'trainable': True,\n",
       "    'dtype': 'float32',\n",
       "    'units': 1,\n",
       "    'activation': 'sigmoid',\n",
       "    'use_bias': True,\n",
       "    'kernel_initializer': {'class_name': 'Zeros', 'config': {}},\n",
       "    'bias_initializer': {'class_name': 'Zeros', 'config': {}},\n",
       "    'kernel_regularizer': None,\n",
       "    'bias_regularizer': None,\n",
       "    'activity_regularizer': None,\n",
       "    'kernel_constraint': None,\n",
       "    'bias_constraint': None}}]}"
      ]
     },
     "execution_count": 22,
     "metadata": {},
     "output_type": "execute_result"
    }
   ],
   "source": [
    "model.get_config()"
   ]
  },
  {
   "cell_type": "code",
   "execution_count": 23,
   "metadata": {},
   "outputs": [
    {
     "name": "stdout",
     "output_type": "stream",
     "text": [
      "Model: \"sequential\"\n",
      "_________________________________________________________________\n",
      "Layer (type)                 Output Shape              Param #   \n",
      "=================================================================\n",
      "dense (Dense)                (None, 4)                 36        \n",
      "_________________________________________________________________\n",
      "dense_1 (Dense)              (None, 4)                 20        \n",
      "_________________________________________________________________\n",
      "dense_2 (Dense)              (None, 1)                 5         \n",
      "=================================================================\n",
      "Total params: 61\n",
      "Trainable params: 61\n",
      "Non-trainable params: 0\n",
      "_________________________________________________________________\n"
     ]
    }
   ],
   "source": [
    "model.summary()"
   ]
  },
  {
   "cell_type": "markdown",
   "metadata": {},
   "source": [
    "here dense_2 is our 3rd layer which will give output-> 1 (either 0 or 1 ) and has paramete\n",
    "\n",
    "here we can see total 61 parameter it will find imagine in big data , image processing millions of paramenter they will find and it takes lots of computing power"
   ]
  },
  {
   "cell_type": "code",
   "execution_count": 24,
   "metadata": {},
   "outputs": [],
   "source": [
    "#After model creation we need to compile the model to tell what is our loss funtion and which optimiser we are going to use\n",
    "\n",
    "from keras.optimizers import Adam"
   ]
  },
  {
   "cell_type": "code",
   "execution_count": 25,
   "metadata": {},
   "outputs": [],
   "source": [
    "model.compile(optimizer = Adam(), loss=\"binary_crossentropy\")\n",
    "#binary_crossentropy is a loss funciton used in binary classification works in 0 and 1."
   ]
  },
  {
   "cell_type": "code",
   "execution_count": 26,
   "metadata": {},
   "outputs": [
    {
     "name": "stdout",
     "output_type": "stream",
     "text": [
      "24/24 [==============================] - 0s 651us/step - loss: 0.6916\n"
     ]
    },
    {
     "data": {
      "text/plain": [
       "<tensorflow.python.keras.callbacks.History at 0x2b24976fbc8>"
      ]
     },
     "execution_count": 26,
     "metadata": {},
     "output_type": "execute_result"
    }
   ],
   "source": [
    "model.fit(X,y) #here we can see the loss we have"
   ]
  },
  {
   "cell_type": "code",
   "execution_count": 27,
   "metadata": {},
   "outputs": [
    {
     "name": "stdout",
     "output_type": "stream",
     "text": [
      "Epoch 1/100\n",
      "24/24 [==============================] - 0s 610us/step - loss: 0.6886\n",
      "Epoch 2/100\n",
      "24/24 [==============================] - 0s 699us/step - loss: 0.6857\n",
      "Epoch 3/100\n",
      "24/24 [==============================] - 0s 665us/step - loss: 0.6831\n",
      "Epoch 4/100\n",
      "24/24 [==============================] - 0s 706us/step - loss: 0.6804\n",
      "Epoch 5/100\n",
      "24/24 [==============================] - 0s 708us/step - loss: 0.6781\n",
      "Epoch 6/100\n",
      "24/24 [==============================] - 0s 744us/step - loss: 0.6758\n",
      "Epoch 7/100\n",
      "24/24 [==============================] - 0s 737us/step - loss: 0.6737\n",
      "Epoch 8/100\n",
      "24/24 [==============================] - 0s 666us/step - loss: 0.6719\n",
      "Epoch 9/100\n",
      "24/24 [==============================] - 0s 678us/step - loss: 0.6698\n",
      "Epoch 10/100\n",
      "24/24 [==============================] - 0s 701us/step - loss: 0.6682\n",
      "Epoch 11/100\n",
      "24/24 [==============================] - 0s 655us/step - loss: 0.6666\n",
      "Epoch 12/100\n",
      "24/24 [==============================] - 0s 658us/step - loss: 0.6651\n",
      "Epoch 13/100\n",
      "24/24 [==============================] - 0s 676us/step - loss: 0.6636\n",
      "Epoch 14/100\n",
      "24/24 [==============================] - 0s 744us/step - loss: 0.6623\n",
      "Epoch 15/100\n",
      "24/24 [==============================] - ETA: 0s - loss: 0.668 - 0s 709us/step - loss: 0.6611\n",
      "Epoch 16/100\n",
      "24/24 [==============================] - 0s 706us/step - loss: 0.6599\n",
      "Epoch 17/100\n",
      "24/24 [==============================] - 0s 686us/step - loss: 0.6588\n",
      "Epoch 18/100\n",
      "24/24 [==============================] - 0s 672us/step - loss: 0.6580\n",
      "Epoch 19/100\n",
      "24/24 [==============================] - 0s 641us/step - loss: 0.6569\n",
      "Epoch 20/100\n",
      "24/24 [==============================] - 0s 683us/step - loss: 0.6561\n",
      "Epoch 21/100\n",
      "24/24 [==============================] - 0s 667us/step - loss: 0.6553\n",
      "Epoch 22/100\n",
      "24/24 [==============================] - 0s 784us/step - loss: 0.6547\n",
      "Epoch 23/100\n",
      "24/24 [==============================] - 0s 747us/step - loss: 0.6539\n",
      "Epoch 24/100\n",
      "24/24 [==============================] - 0s 768us/step - loss: 0.6534\n",
      "Epoch 25/100\n",
      "24/24 [==============================] - 0s 1ms/step - loss: 0.6527\n",
      "Epoch 26/100\n",
      "24/24 [==============================] - 0s 861us/step - loss: 0.6523\n",
      "Epoch 27/100\n",
      "24/24 [==============================] - 0s 664us/step - loss: 0.6517\n",
      "Epoch 28/100\n",
      "24/24 [==============================] - 0s 742us/step - loss: 0.6513\n",
      "Epoch 29/100\n",
      "24/24 [==============================] - 0s 707us/step - loss: 0.6509\n",
      "Epoch 30/100\n",
      "24/24 [==============================] - 0s 726us/step - loss: 0.6505\n",
      "Epoch 31/100\n",
      "24/24 [==============================] - 0s 714us/step - loss: 0.6502\n",
      "Epoch 32/100\n",
      "24/24 [==============================] - 0s 694us/step - loss: 0.6499\n",
      "Epoch 33/100\n",
      "24/24 [==============================] - 0s 693us/step - loss: 0.6496\n",
      "Epoch 34/100\n",
      "24/24 [==============================] - 0s 658us/step - loss: 0.6493\n",
      "Epoch 35/100\n",
      "24/24 [==============================] - 0s 667us/step - loss: 0.6491\n",
      "Epoch 36/100\n",
      "24/24 [==============================] - 0s 747us/step - loss: 0.6489\n",
      "Epoch 37/100\n",
      "24/24 [==============================] - 0s 703us/step - loss: 0.6487\n",
      "Epoch 38/100\n",
      "24/24 [==============================] - 0s 754us/step - loss: 0.6485\n",
      "Epoch 39/100\n",
      "24/24 [==============================] - 0s 665us/step - loss: 0.6483\n",
      "Epoch 40/100\n",
      "24/24 [==============================] - 0s 657us/step - loss: 0.6482\n",
      "Epoch 41/100\n",
      "24/24 [==============================] - 0s 666us/step - loss: 0.6481\n",
      "Epoch 42/100\n",
      "24/24 [==============================] - 0s 687us/step - loss: 0.6479\n",
      "Epoch 43/100\n",
      "24/24 [==============================] - 0s 687us/step - loss: 0.6478\n",
      "Epoch 44/100\n",
      "24/24 [==============================] - 0s 675us/step - loss: 0.6477\n",
      "Epoch 45/100\n",
      "24/24 [==============================] - 0s 695us/step - loss: 0.6477\n",
      "Epoch 46/100\n",
      "24/24 [==============================] - 0s 748us/step - loss: 0.6476\n",
      "Epoch 47/100\n",
      "24/24 [==============================] - 0s 698us/step - loss: 0.6475\n",
      "Epoch 48/100\n",
      "24/24 [==============================] - 0s 623us/step - loss: 0.6474\n",
      "Epoch 49/100\n",
      "24/24 [==============================] - 0s 656us/step - loss: 0.6474\n",
      "Epoch 50/100\n",
      "24/24 [==============================] - 0s 653us/step - loss: 0.6473\n",
      "Epoch 51/100\n",
      "24/24 [==============================] - 0s 757us/step - loss: 0.6472\n",
      "Epoch 52/100\n",
      "24/24 [==============================] - 0s 568us/step - loss: 0.6472\n",
      "Epoch 53/100\n",
      "24/24 [==============================] - 0s 726us/step - loss: 0.6472\n",
      "Epoch 54/100\n",
      "24/24 [==============================] - 0s 797us/step - loss: 0.6471\n",
      "Epoch 55/100\n",
      "24/24 [==============================] - 0s 720us/step - loss: 0.6471\n",
      "Epoch 56/100\n",
      "24/24 [==============================] - 0s 625us/step - loss: 0.6470\n",
      "Epoch 57/100\n",
      "24/24 [==============================] - 0s 584us/step - loss: 0.6470\n",
      "Epoch 58/100\n",
      "24/24 [==============================] - 0s 604us/step - loss: 0.6470\n",
      "Epoch 59/100\n",
      "24/24 [==============================] - 0s 592us/step - loss: 0.6470\n",
      "Epoch 60/100\n",
      "24/24 [==============================] - 0s 596us/step - loss: 0.6470\n",
      "Epoch 61/100\n",
      "24/24 [==============================] - 0s 609us/step - loss: 0.6470\n",
      "Epoch 62/100\n",
      "24/24 [==============================] - 0s 491us/step - loss: 0.6469\n",
      "Epoch 63/100\n",
      "24/24 [==============================] - 0s 665us/step - loss: 0.6469\n",
      "Epoch 64/100\n",
      "24/24 [==============================] - 0s 640us/step - loss: 0.6469\n",
      "Epoch 65/100\n",
      "24/24 [==============================] - 0s 611us/step - loss: 0.6469\n",
      "Epoch 66/100\n",
      "24/24 [==============================] - 0s 535us/step - loss: 0.6469\n",
      "Epoch 67/100\n",
      "24/24 [==============================] - 0s 539us/step - loss: 0.6469\n",
      "Epoch 68/100\n",
      "24/24 [==============================] - 0s 563us/step - loss: 0.6469\n",
      "Epoch 69/100\n",
      "24/24 [==============================] - 0s 581us/step - loss: 0.6469\n",
      "Epoch 70/100\n",
      "24/24 [==============================] - 0s 548us/step - loss: 0.6469\n",
      "Epoch 71/100\n",
      "24/24 [==============================] - 0s 579us/step - loss: 0.6469\n",
      "Epoch 72/100\n",
      "24/24 [==============================] - 0s 617us/step - loss: 0.6469\n",
      "Epoch 73/100\n",
      "24/24 [==============================] - 0s 618us/step - loss: 0.6468\n",
      "Epoch 74/100\n",
      "24/24 [==============================] - 0s 614us/step - loss: 0.6468\n",
      "Epoch 75/100\n",
      "24/24 [==============================] - 0s 631us/step - loss: 0.6469\n",
      "Epoch 76/100\n",
      "24/24 [==============================] - 0s 638us/step - loss: 0.6468\n",
      "Epoch 77/100\n",
      "24/24 [==============================] - 0s 622us/step - loss: 0.6468\n",
      "Epoch 78/100\n",
      "24/24 [==============================] - 0s 708us/step - loss: 0.6468\n",
      "Epoch 79/100\n",
      "24/24 [==============================] - 0s 628us/step - loss: 0.6468\n",
      "Epoch 80/100\n",
      "24/24 [==============================] - 0s 671us/step - loss: 0.6468\n",
      "Epoch 81/100\n",
      "24/24 [==============================] - 0s 703us/step - loss: 0.6468\n",
      "Epoch 82/100\n",
      "24/24 [==============================] - 0s 790us/step - loss: 0.6468\n",
      "Epoch 83/100\n",
      "24/24 [==============================] - 0s 831us/step - loss: 0.6468\n",
      "Epoch 84/100\n",
      "24/24 [==============================] - 0s 791us/step - loss: 0.6468\n",
      "Epoch 85/100\n",
      "24/24 [==============================] - 0s 708us/step - loss: 0.6468\n",
      "Epoch 86/100\n",
      "24/24 [==============================] - 0s 689us/step - loss: 0.6468\n",
      "Epoch 87/100\n",
      "24/24 [==============================] - 0s 693us/step - loss: 0.6468\n",
      "Epoch 88/100\n",
      "24/24 [==============================] - 0s 696us/step - loss: 0.6468\n",
      "Epoch 89/100\n",
      "24/24 [==============================] - 0s 665us/step - loss: 0.6468\n",
      "Epoch 90/100\n",
      "24/24 [==============================] - 0s 657us/step - loss: 0.6468\n",
      "Epoch 91/100\n",
      "24/24 [==============================] - 0s 605us/step - loss: 0.6468\n",
      "Epoch 92/100\n",
      "24/24 [==============================] - 0s 571us/step - loss: 0.6468\n",
      "Epoch 93/100\n",
      "24/24 [==============================] - 0s 632us/step - loss: 0.6468\n",
      "Epoch 94/100\n",
      "24/24 [==============================] - 0s 563us/step - loss: 0.6468\n",
      "Epoch 95/100\n",
      "24/24 [==============================] - 0s 540us/step - loss: 0.6468\n",
      "Epoch 96/100\n",
      "24/24 [==============================] - 0s 572us/step - loss: 0.6468\n",
      "Epoch 97/100\n",
      "24/24 [==============================] - 0s 606us/step - loss: 0.6468\n",
      "Epoch 98/100\n",
      "24/24 [==============================] - 0s 645us/step - loss: 0.6469\n",
      "Epoch 99/100\n"
     ]
    },
    {
     "name": "stdout",
     "output_type": "stream",
     "text": [
      "24/24 [==============================] - 0s 618us/step - loss: 0.6468\n",
      "Epoch 100/100\n",
      "24/24 [==============================] - 0s 623us/step - loss: 0.6468\n"
     ]
    },
    {
     "data": {
      "text/plain": [
       "<tensorflow.python.keras.callbacks.History at 0x2b2511a8a48>"
      ]
     },
     "execution_count": 27,
     "metadata": {},
     "output_type": "execute_result"
    }
   ],
   "source": [
    "#if we are not happy with the weight and bias then we can go back and reset the weight and bias and again train model\n",
    "# this is called backpropogation\n",
    "# epochs is use to set how many times we need to go back\n",
    "\n",
    "\n",
    "model.fit(X,y, epochs=100)"
   ]
  },
  {
   "cell_type": "markdown",
   "metadata": {},
   "source": [
    "Here we can see epochs train the model 100 times and we can see loss is decreased"
   ]
  },
  {
   "cell_type": "code",
   "execution_count": 28,
   "metadata": {},
   "outputs": [],
   "source": [
    "model.save(\"dia_model.h5\")"
   ]
  }
 ],
 "metadata": {
  "kernelspec": {
   "display_name": "Python 3",
   "language": "python",
   "name": "python3"
  },
  "language_info": {
   "codemirror_mode": {
    "name": "ipython",
    "version": 3
   },
   "file_extension": ".py",
   "mimetype": "text/x-python",
   "name": "python",
   "nbconvert_exporter": "python",
   "pygments_lexer": "ipython3",
   "version": "3.7.9"
  }
 },
 "nbformat": 4,
 "nbformat_minor": 4
}
